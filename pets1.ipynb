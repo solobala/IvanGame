{
  "nbformat": 4,
  "nbformat_minor": 0,
  "metadata": {
    "colab": {
      "provenance": [],
      "authorship_tag": "ABX9TyMme2b6orHAtQA8lnasSkTl",
      "include_colab_link": true
    },
    "kernelspec": {
      "name": "python3",
      "display_name": "Python 3"
    },
    "language_info": {
      "name": "python"
    }
  },
  "cells": [
    {
      "cell_type": "markdown",
      "metadata": {
        "id": "view-in-github",
        "colab_type": "text"
      },
      "source": [
        "<a href=\"https://colab.research.google.com/github/solobala/IvanGame/blob/master/pets1.ipynb\" target=\"_parent\"><img src=\"https://colab.research.google.com/assets/colab-badge.svg\" alt=\"Open In Colab\"/></a>"
      ]
    },
    {
      "cell_type": "markdown",
      "source": [
        "# Задача: Спрогнозировать пол питомца по его описанию"
      ],
      "metadata": {
        "id": "OkvuCQ4tJlTU"
      }
    },
    {
      "cell_type": "markdown",
      "source": [
        "#№ 0. Импорт библиотек и пользовательские функции"
      ],
      "metadata": {
        "id": "_yl0-NMKXwtf"
      }
    },
    {
      "cell_type": "code",
      "execution_count": 1,
      "metadata": {
        "colab": {
          "base_uri": "https://localhost:8080/"
        },
        "id": "hjXZhhmyJjj5",
        "outputId": "6e0a3532-619b-4fc0-96cd-be4e65c54a44"
      },
      "outputs": [
        {
          "output_type": "stream",
          "name": "stdout",
          "text": [
            "Looking in indexes: https://pypi.org/simple, https://us-python.pkg.dev/colab-wheels/public/simple/\n",
            "Requirement already satisfied: ipython-sql in /usr/local/lib/python3.10/dist-packages (0.4.1)\n",
            "Requirement already satisfied: prettytable<1 in /usr/local/lib/python3.10/dist-packages (from ipython-sql) (0.7.2)\n",
            "Requirement already satisfied: ipython>=1.0 in /usr/local/lib/python3.10/dist-packages (from ipython-sql) (7.34.0)\n",
            "Requirement already satisfied: sqlalchemy>=0.6.7 in /usr/local/lib/python3.10/dist-packages (from ipython-sql) (2.0.10)\n",
            "Requirement already satisfied: sqlparse in /usr/local/lib/python3.10/dist-packages (from ipython-sql) (0.4.4)\n",
            "Requirement already satisfied: six in /usr/local/lib/python3.10/dist-packages (from ipython-sql) (1.16.0)\n",
            "Requirement already satisfied: ipython-genutils>=0.1.0 in /usr/local/lib/python3.10/dist-packages (from ipython-sql) (0.2.0)\n",
            "Requirement already satisfied: setuptools>=18.5 in /usr/local/lib/python3.10/dist-packages (from ipython>=1.0->ipython-sql) (67.7.2)\n",
            "Collecting jedi>=0.16 (from ipython>=1.0->ipython-sql)\n",
            "  Downloading jedi-0.18.2-py2.py3-none-any.whl (1.6 MB)\n",
            "\u001b[2K     \u001b[90m━━━━━━━━━━━━━━━━━━━━━━━━━━━━━━━━━━━━━━━━\u001b[0m \u001b[32m1.6/1.6 MB\u001b[0m \u001b[31m17.5 MB/s\u001b[0m eta \u001b[36m0:00:00\u001b[0m\n",
            "\u001b[?25hRequirement already satisfied: decorator in /usr/local/lib/python3.10/dist-packages (from ipython>=1.0->ipython-sql) (4.4.2)\n",
            "Requirement already satisfied: pickleshare in /usr/local/lib/python3.10/dist-packages (from ipython>=1.0->ipython-sql) (0.7.5)\n",
            "Requirement already satisfied: traitlets>=4.2 in /usr/local/lib/python3.10/dist-packages (from ipython>=1.0->ipython-sql) (5.7.1)\n",
            "Requirement already satisfied: prompt-toolkit!=3.0.0,!=3.0.1,<3.1.0,>=2.0.0 in /usr/local/lib/python3.10/dist-packages (from ipython>=1.0->ipython-sql) (3.0.38)\n",
            "Requirement already satisfied: pygments in /usr/local/lib/python3.10/dist-packages (from ipython>=1.0->ipython-sql) (2.14.0)\n",
            "Requirement already satisfied: backcall in /usr/local/lib/python3.10/dist-packages (from ipython>=1.0->ipython-sql) (0.2.0)\n",
            "Requirement already satisfied: matplotlib-inline in /usr/local/lib/python3.10/dist-packages (from ipython>=1.0->ipython-sql) (0.1.6)\n",
            "Requirement already satisfied: pexpect>4.3 in /usr/local/lib/python3.10/dist-packages (from ipython>=1.0->ipython-sql) (4.8.0)\n",
            "Requirement already satisfied: typing-extensions>=4.2.0 in /usr/local/lib/python3.10/dist-packages (from sqlalchemy>=0.6.7->ipython-sql) (4.5.0)\n",
            "Requirement already satisfied: greenlet!=0.4.17 in /usr/local/lib/python3.10/dist-packages (from sqlalchemy>=0.6.7->ipython-sql) (2.0.2)\n",
            "Requirement already satisfied: parso<0.9.0,>=0.8.0 in /usr/local/lib/python3.10/dist-packages (from jedi>=0.16->ipython>=1.0->ipython-sql) (0.8.3)\n",
            "Requirement already satisfied: ptyprocess>=0.5 in /usr/local/lib/python3.10/dist-packages (from pexpect>4.3->ipython>=1.0->ipython-sql) (0.7.0)\n",
            "Requirement already satisfied: wcwidth in /usr/local/lib/python3.10/dist-packages (from prompt-toolkit!=3.0.0,!=3.0.1,<3.1.0,>=2.0.0->ipython>=1.0->ipython-sql) (0.2.6)\n",
            "Installing collected packages: jedi\n",
            "Successfully installed jedi-0.18.2\n"
          ]
        }
      ],
      "source": [
        "!pip3 install ipython-sql "
      ]
    },
    {
      "cell_type": "code",
      "source": [
        "!pip3 install psycopg2 "
      ],
      "metadata": {
        "colab": {
          "base_uri": "https://localhost:8080/"
        },
        "id": "QpZVqWXvJwuM",
        "outputId": "f8f6387c-6924-4e84-f434-3002a10b3a84"
      },
      "execution_count": 2,
      "outputs": [
        {
          "output_type": "stream",
          "name": "stdout",
          "text": [
            "Looking in indexes: https://pypi.org/simple, https://us-python.pkg.dev/colab-wheels/public/simple/\n",
            "Requirement already satisfied: psycopg2 in /usr/local/lib/python3.10/dist-packages (2.9.6)\n"
          ]
        }
      ]
    },
    {
      "cell_type": "code",
      "source": [
        "import psycopg2\n",
        "from psycopg2 import sql"
      ],
      "metadata": {
        "id": "hScd8WkBJ0T9"
      },
      "execution_count": 3,
      "outputs": []
    },
    {
      "cell_type": "code",
      "source": [
        "DATABASE = {\n",
        "    'drivername': 'postgresql+psycopg2://',\n",
        "    'host': '95.217.160.45',\n",
        "    'port': '5634',\n",
        "    'username': 'postgres',\n",
        "    'password': SecretStr('sHiCpLUd0OIofgrvcdUnEt8rvYWjdBblPdMnnyDrb1LLK2lalAvAQ2ooIPgrcTMC'),\n",
        "    'database': 'postgres'\n",
        "}"
      ],
      "metadata": {
        "id": "TW35dGcgJ4g7"
      },
      "execution_count": 69,
      "outputs": []
    },
    {
      "cell_type": "code",
      "source": [
        "conn = psycopg2.connect(\n",
        "    dbname=DATABASE.get('database'), \n",
        "    user=DATABASE.get('username'), \n",
        "    password=DATABASE.get('password'), \n",
        "    host=DATABASE.get('host'), \n",
        "    port=DATABASE.get('port'))"
      ],
      "metadata": {
        "id": "4rujiKoEJ8N-"
      },
      "execution_count": 5,
      "outputs": []
    },
    {
      "cell_type": "code",
      "source": [
        "cur = conn.cursor()"
      ],
      "metadata": {
        "id": "D6uVkkPgKAL9"
      },
      "execution_count": 6,
      "outputs": []
    },
    {
      "cell_type": "code",
      "source": [
        "import pandas as pd\n",
        "import sqlalchemy\n",
        "from sqlalchemy import create_engine\n",
        "import warnings\n",
        "warnings.filterwarnings(\"ignore\")"
      ],
      "metadata": {
        "id": "0be4yr45KCkM"
      },
      "execution_count": 7,
      "outputs": []
    },
    {
      "cell_type": "code",
      "source": [
        "%load_ext sql \n",
        "# а это загрузка установленного расширения"
      ],
      "metadata": {
        "id": "KXorEibPKE57"
      },
      "execution_count": 8,
      "outputs": []
    },
    {
      "cell_type": "code",
      "source": [
        "df = pd.read_sql('select id, name, description, gender from pets;', conn)"
      ],
      "metadata": {
        "id": "RdBqtAkRKIBV"
      },
      "execution_count": 9,
      "outputs": []
    },
    {
      "cell_type": "code",
      "source": [
        "!pip install pymorphy2\n",
        "!pip install pymorphy2-dicts"
      ],
      "metadata": {
        "colab": {
          "base_uri": "https://localhost:8080/"
        },
        "id": "NdxpiilYKLbR",
        "outputId": "52c6792b-406f-41df-fa0d-c700fcb3b48f"
      },
      "execution_count": 10,
      "outputs": [
        {
          "output_type": "stream",
          "name": "stdout",
          "text": [
            "Looking in indexes: https://pypi.org/simple, https://us-python.pkg.dev/colab-wheels/public/simple/\n",
            "Collecting pymorphy2\n",
            "  Downloading pymorphy2-0.9.1-py3-none-any.whl (55 kB)\n",
            "\u001b[2K     \u001b[90m━━━━━━━━━━━━━━━━━━━━━━━━━━━━━━━━━━━━━━━━\u001b[0m \u001b[32m55.5/55.5 kB\u001b[0m \u001b[31m2.6 MB/s\u001b[0m eta \u001b[36m0:00:00\u001b[0m\n",
            "\u001b[?25hCollecting dawg-python>=0.7.1 (from pymorphy2)\n",
            "  Downloading DAWG_Python-0.7.2-py2.py3-none-any.whl (11 kB)\n",
            "Collecting pymorphy2-dicts-ru<3.0,>=2.4 (from pymorphy2)\n",
            "  Downloading pymorphy2_dicts_ru-2.4.417127.4579844-py2.py3-none-any.whl (8.2 MB)\n",
            "\u001b[2K     \u001b[90m━━━━━━━━━━━━━━━━━━━━━━━━━━━━━━━━━━━━━━━━\u001b[0m \u001b[32m8.2/8.2 MB\u001b[0m \u001b[31m61.8 MB/s\u001b[0m eta \u001b[36m0:00:00\u001b[0m\n",
            "\u001b[?25hCollecting docopt>=0.6 (from pymorphy2)\n",
            "  Downloading docopt-0.6.2.tar.gz (25 kB)\n",
            "  Preparing metadata (setup.py) ... \u001b[?25l\u001b[?25hdone\n",
            "Building wheels for collected packages: docopt\n",
            "  Building wheel for docopt (setup.py) ... \u001b[?25l\u001b[?25hdone\n",
            "  Created wheel for docopt: filename=docopt-0.6.2-py2.py3-none-any.whl size=13707 sha256=2f6c85bb0ea45ba4ecc94e7c5ca9947b465ee2806a186c75677da123f6f180a2\n",
            "  Stored in directory: /root/.cache/pip/wheels/fc/ab/d4/5da2067ac95b36618c629a5f93f809425700506f72c9732fac\n",
            "Successfully built docopt\n",
            "Installing collected packages: pymorphy2-dicts-ru, docopt, dawg-python, pymorphy2\n",
            "Successfully installed dawg-python-0.7.2 docopt-0.6.2 pymorphy2-0.9.1 pymorphy2-dicts-ru-2.4.417127.4579844\n",
            "Looking in indexes: https://pypi.org/simple, https://us-python.pkg.dev/colab-wheels/public/simple/\n",
            "Collecting pymorphy2-dicts\n",
            "  Downloading pymorphy2_dicts-2.4.393442.3710985-py2.py3-none-any.whl (7.1 MB)\n",
            "\u001b[2K     \u001b[90m━━━━━━━━━━━━━━━━━━━━━━━━━━━━━━━━━━━━━━━━\u001b[0m \u001b[32m7.1/7.1 MB\u001b[0m \u001b[31m52.1 MB/s\u001b[0m eta \u001b[36m0:00:00\u001b[0m\n",
            "\u001b[?25hInstalling collected packages: pymorphy2-dicts\n",
            "Successfully installed pymorphy2-dicts-2.4.393442.3710985\n"
          ]
        }
      ]
    },
    {
      "cell_type": "code",
      "source": [
        "import pymorphy2\n",
        "morph = pymorphy2.MorphAnalyzer()"
      ],
      "metadata": {
        "id": "VZ245U6GKOSQ"
      },
      "execution_count": 11,
      "outputs": []
    },
    {
      "cell_type": "code",
      "source": [
        "import nltk\n",
        "nltk.download('punkt') # \n",
        "nltk.download('stopwords')"
      ],
      "metadata": {
        "colab": {
          "base_uri": "https://localhost:8080/"
        },
        "id": "YaUwM-xxKSDh",
        "outputId": "06e32956-229d-40ca-b99e-624bbff7f08b"
      },
      "execution_count": 12,
      "outputs": [
        {
          "output_type": "stream",
          "name": "stderr",
          "text": [
            "[nltk_data] Downloading package punkt to /root/nltk_data...\n",
            "[nltk_data]   Unzipping tokenizers/punkt.zip.\n",
            "[nltk_data] Downloading package stopwords to /root/nltk_data...\n",
            "[nltk_data]   Unzipping corpora/stopwords.zip.\n"
          ]
        },
        {
          "output_type": "execute_result",
          "data": {
            "text/plain": [
              "True"
            ]
          },
          "metadata": {},
          "execution_count": 12
        }
      ]
    },
    {
      "cell_type": "code",
      "source": [
        "from sklearn.preprocessing import LabelEncoder, OneHotEncoder\n",
        "from sklearn.linear_model import LogisticRegression\n",
        "from sklearn.model_selection import train_test_split\n",
        "from sklearn.pipeline import Pipeline\n",
        "from sklearn.compose import ColumnTransformer\n",
        "from sklearn.model_selection import  RandomizedSearchCV\n",
        "from sklearn.feature_selection import SelectPercentile, chi2\n",
        "from sklearn.metrics import average_precision_score\n",
        "from sklearn.metrics import accuracy_score\n",
        "from sklearn.metrics import balanced_accuracy_score\n",
        "from sklearn.metrics import precision_score, recall_score, f1_score\n",
        "from sklearn.model_selection import cross_val_score\n",
        "from sklearn.metrics import classification_report"
      ],
      "metadata": {
        "id": "zPAOW4HdKVAR"
      },
      "execution_count": 13,
      "outputs": []
    },
    {
      "cell_type": "code",
      "source": [
        "from nltk.tokenize import sent_tokenize # разбивает предложение на слова\n",
        "from nltk.corpus import stopwords\n",
        "from nltk.tokenize import word_tokenize\n",
        "import re\n",
        "from collections import Counter\n",
        "import warnings\n",
        "warnings.filterwarnings(\"ignore\")"
      ],
      "metadata": {
        "id": "yeqNVBMQKY1O"
      },
      "execution_count": 14,
      "outputs": []
    },
    {
      "cell_type": "code",
      "source": [
        "# библиотека для определения принадлежности слова к русскому языку ( нужна для корректного определения рода клички)\n",
        "!pip install fasttext-langdetect"
      ],
      "metadata": {
        "colab": {
          "base_uri": "https://localhost:8080/"
        },
        "id": "b-8xf_roKdub",
        "outputId": "d920860c-7bf4-45fd-ed32-da78612f66d3"
      },
      "execution_count": 15,
      "outputs": [
        {
          "output_type": "stream",
          "name": "stdout",
          "text": [
            "Looking in indexes: https://pypi.org/simple, https://us-python.pkg.dev/colab-wheels/public/simple/\n",
            "Collecting fasttext-langdetect\n",
            "  Downloading fasttext-langdetect-1.0.5.tar.gz (6.8 kB)\n",
            "  Preparing metadata (setup.py) ... \u001b[?25l\u001b[?25hdone\n",
            "Collecting fasttext>=0.9.1 (from fasttext-langdetect)\n",
            "  Downloading fasttext-0.9.2.tar.gz (68 kB)\n",
            "\u001b[2K     \u001b[90m━━━━━━━━━━━━━━━━━━━━━━━━━━━━━━━━━━━━━━━━\u001b[0m \u001b[32m68.8/68.8 kB\u001b[0m \u001b[31m2.5 MB/s\u001b[0m eta \u001b[36m0:00:00\u001b[0m\n",
            "\u001b[?25h  Preparing metadata (setup.py) ... \u001b[?25l\u001b[?25hdone\n",
            "Requirement already satisfied: requests>=2.22.0 in /usr/local/lib/python3.10/dist-packages (from fasttext-langdetect) (2.27.1)\n",
            "Collecting pybind11>=2.2 (from fasttext>=0.9.1->fasttext-langdetect)\n",
            "  Using cached pybind11-2.10.4-py3-none-any.whl (222 kB)\n",
            "Requirement already satisfied: setuptools>=0.7.0 in /usr/local/lib/python3.10/dist-packages (from fasttext>=0.9.1->fasttext-langdetect) (67.7.2)\n",
            "Requirement already satisfied: numpy in /usr/local/lib/python3.10/dist-packages (from fasttext>=0.9.1->fasttext-langdetect) (1.22.4)\n",
            "Requirement already satisfied: urllib3<1.27,>=1.21.1 in /usr/local/lib/python3.10/dist-packages (from requests>=2.22.0->fasttext-langdetect) (1.26.15)\n",
            "Requirement already satisfied: certifi>=2017.4.17 in /usr/local/lib/python3.10/dist-packages (from requests>=2.22.0->fasttext-langdetect) (2022.12.7)\n",
            "Requirement already satisfied: charset-normalizer~=2.0.0 in /usr/local/lib/python3.10/dist-packages (from requests>=2.22.0->fasttext-langdetect) (2.0.12)\n",
            "Requirement already satisfied: idna<4,>=2.5 in /usr/local/lib/python3.10/dist-packages (from requests>=2.22.0->fasttext-langdetect) (3.4)\n",
            "Building wheels for collected packages: fasttext-langdetect, fasttext\n",
            "  Building wheel for fasttext-langdetect (setup.py) ... \u001b[?25l\u001b[?25hdone\n",
            "  Created wheel for fasttext-langdetect: filename=fasttext_langdetect-1.0.5-py3-none-any.whl size=7504 sha256=b82d3f7abc429aa364338db2d0d6816e4513434fc973b9da8cdebd581ae84e7a\n",
            "  Stored in directory: /root/.cache/pip/wheels/e6/5b/5d/47e2fd5c2ff1028722739ce35f365e8f6eeb89ec97aa63e621\n",
            "  Building wheel for fasttext (setup.py) ... \u001b[?25l\u001b[?25hdone\n",
            "  Created wheel for fasttext: filename=fasttext-0.9.2-cp310-cp310-linux_x86_64.whl size=4393134 sha256=fd385d97c6398086ce1c7bd9f471e6aae2197525c4a5a78ab2d903844df59773\n",
            "  Stored in directory: /root/.cache/pip/wheels/a5/13/75/f811c84a8ab36eedbaef977a6a58a98990e8e0f1967f98f394\n",
            "Successfully built fasttext-langdetect fasttext\n",
            "Installing collected packages: pybind11, fasttext, fasttext-langdetect\n",
            "Successfully installed fasttext-0.9.2 fasttext-langdetect-1.0.5 pybind11-2.10.4\n"
          ]
        }
      ]
    },
    {
      "cell_type": "code",
      "source": [
        "from ftlangdetect import detect"
      ],
      "metadata": {
        "id": "iY0SYhZeKhy6"
      },
      "execution_count": 16,
      "outputs": []
    },
    {
      "cell_type": "code",
      "source": [
        "stop_words = stopwords.words('russian')\n",
        "# Удаляем из списка стоп-слов слова, которые обладают родом - в частности, местоимения\n",
        "for word in stop_words:\n",
        "    if str(morph.parse(word)[0].tag.gender) in ['masc', 'femn']:\n",
        "        stop_words.remove(word)"
      ],
      "metadata": {
        "id": "hz_IxxccKlfq"
      },
      "execution_count": 17,
      "outputs": []
    },
    {
      "cell_type": "code",
      "source": [
        "def check_lang(word):\n",
        "    \"\"\"\n",
        "    Вспомогательная функция для определения рода слова\n",
        "    в случае принадлежности его к русскому языку\n",
        "    \"\"\"\n",
        "    word=word.lower()\n",
        "    female_exceptions=['роза', 'лайма','шерри', 'кира','черри', 'дейзи', 'тейзи', \n",
        "                       'злата','хлоя','рада', 'рала', 'лола','нюрочка', 'коко', 'дина',\n",
        "                      'клякса', 'лисса', 'уна', 'герда', 'жужа','афина', 'пралине', 'лотта',\n",
        "                      'люси', 'боня', 'лея', 'ася', 'бася', 'белка', 'ютв', 'сима', 'мира', 'моника',\n",
        "                      'мотя', 'вита']\n",
        "    male_exceptions=['хаммер', 'альф', 'денди','кунжут','мухтар','риччи', 'бим']\n",
        "    language = detect(word, low_memory=False)['lang']\n",
        "    if word in female_exceptions:\n",
        "        return 'femn'\n",
        "    elif word in male_exceptions:\n",
        "        return 'masc'\n",
        "    else:\n",
        "        if (language != \"ru\"):\n",
        "            return 'neut'\n",
        "        else:\n",
        "            return morph.parse(word)[0].tag.gender"
      ],
      "metadata": {
        "id": "t-k4acv7Kp70"
      },
      "execution_count": 18,
      "outputs": []
    },
    {
      "cell_type": "code",
      "source": [
        "df['sex_name']=df['name'].apply(check_lang)"
      ],
      "metadata": {
        "colab": {
          "base_uri": "https://localhost:8080/"
        },
        "id": "vjVbptfRKst8",
        "outputId": "dcc4d370-1c30-4fcc-f4be-89a1b74efbf8"
      },
      "execution_count": 19,
      "outputs": [
        {
          "output_type": "stream",
          "name": "stderr",
          "text": [
            "Warning : `load_model` does not return WordVectorModel or SupervisedModel any more, but a `FastText` object which is very similar.\n"
          ]
        }
      ]
    },
    {
      "cell_type": "code",
      "source": [
        "def get_gender(text):\n",
        "    \"\"\"\n",
        "    Вспомогательная функция.\n",
        "    Входной параметр text\n",
        "        - Разбивает text на предложения.\n",
        "        - Удаляет все символы кроме букв\n",
        "        - Делит предложения на токены\n",
        "        - при отсутствии токена в списке стоп-слов определяется его часть речи и род.\n",
        "        все это выполняется для  тех частей речи, которые обладают родом ('parts')\n",
        "        - для каждой части речи в 'parts' определяется наиболее часто встречающийся род\n",
        "    Результат работы - словарь, где ключи - parts, а значения - наиболее часто встречающиеся рода\n",
        "    \"\"\"\n",
        "   \n",
        "    genders=dict()\n",
        "    result = dict()\n",
        "    token_parts=dict()\n",
        "\n",
        "    parts=['NOUN', 'ADJF', 'ADJS', 'NPRO', 'PRTS']\n",
        "\n",
        "    for part in parts:\n",
        "        token_parts[part]=[]\n",
        "        \n",
        "    sentences = nltk.sent_tokenize(text, language=\"russian\")\n",
        "    \n",
        "    for sentence in sentences:\n",
        "        sentence_ = re.sub(r\"[^А-Яа-яёЁ ]\",\"\", sentence) # удалим все кроме букв\n",
        "        tokens = nltk.word_tokenize(sentence_) # делим предложение на слова\n",
        "\n",
        "        for item in tokens:\n",
        "            if  item not in stop_words:\n",
        "                \n",
        "                for part in parts:\n",
        "                    if  (str(morph.parse(item)[0].tag.POS)==part):\n",
        "                        res = check_lang(item)\n",
        "                        token_parts[part].append(res)\n",
        "\n",
        "                        break\n",
        "            else:\n",
        "                pass\n",
        "\n",
        "    for part in parts:\n",
        "        genders[part] = Counter(token_parts[part])\n",
        "        result[part] = genders[part].most_common(1)[0][0] if genders[part]!=Counter() else 'neut'\n",
        "    return result "
      ],
      "metadata": {
        "id": "i7dg09HAKvki"
      },
      "execution_count": 20,
      "outputs": []
    },
    {
      "cell_type": "code",
      "source": [
        "# результаты разбора description помещаются во вспомогательное поле result\n",
        "df['result']= df['description'].apply(get_gender)"
      ],
      "metadata": {
        "id": "xWmUB7qWK0vE"
      },
      "execution_count": 21,
      "outputs": []
    },
    {
      "cell_type": "code",
      "source": [
        "# Разбиваем вспомогательное поле кesult на отдельные колонки по частям речи\n",
        "df['sex_noun']=df['result'].apply(lambda x: x['NOUN'])\n",
        "df['sex_adjf']=df['result'].apply(lambda x: x['ADJF'])\n",
        "df['sex_adjs']=df['result'].apply(lambda x: x['ADJS'])\n",
        "df['sex_npro']=df['result'].apply(lambda x: x['NPRO'])\n",
        "df['sex_prts']=df['result'].apply(lambda x: x['PRTS'])"
      ],
      "metadata": {
        "id": "fJbWejydK6_w"
      },
      "execution_count": 22,
      "outputs": []
    },
    {
      "cell_type": "code",
      "source": [
        "# при отсутствии в тексте каких-либо частей речи появляются nan. Заменяем их на 'neut'\n",
        "df.loc[df[df['sex_noun'].isna()].index ,'sex_noun'] = 'neut' \n",
        "df.loc[df[df['sex_adjf'].isna()].index ,'sex_adjf'] = 'neut' \n",
        "df.loc[df[df['sex_adjs'].isna()].index ,'sex_adjs'] = 'neut' \n",
        "df.loc[df[df['sex_npro'].isna()].index ,'sex_npro'] = 'neut'\n",
        "df.loc[df[df['sex_prts'].isna()].index ,'sex_prts'] = 'neut'"
      ],
      "metadata": {
        "id": "xHYfe1LoK9L9"
      },
      "execution_count": 23,
      "outputs": []
    },
    {
      "cell_type": "code",
      "source": [
        "# поскольку выполняется обучение модели, то убираем из датасета неразмеченную часть \n",
        "# ( там, где gender='unknown')\n",
        "data=df[df['gender']!='unknown']"
      ],
      "metadata": {
        "id": "OUk0GMMzK_iw"
      },
      "execution_count": 24,
      "outputs": []
    },
    {
      "cell_type": "code",
      "source": [
        "y=data['gender']\n",
        "X=data[['sex_name','sex_noun','sex_adjf','sex_npro', 'sex_adjs', 'sex_prts' ]]"
      ],
      "metadata": {
        "id": "9ecs9SpkLB5V"
      },
      "execution_count": 25,
      "outputs": []
    },
    {
      "cell_type": "code",
      "source": [
        "# Произведем Label-кодирование признака 'gender'\n",
        "le = LabelEncoder()\n",
        "le.fit(y)\n",
        "y = pd.Series(data=le.transform(y))"
      ],
      "metadata": {
        "id": "VgA7DxJaLFQm"
      },
      "execution_count": 26,
      "outputs": []
    },
    {
      "cell_type": "code",
      "source": [
        "categorical_features = ['sex_name','sex_noun','sex_adjf','sex_npro', 'sex_adjs', 'sex_prts']\n",
        "categorical_transformer = Pipeline(\n",
        "    steps=[\n",
        "        (\"encoder\", OneHotEncoder(handle_unknown=\"ignore\")),\n",
        "        (\"selector\", SelectPercentile(chi2, percentile=50)),\n",
        "    ]\n",
        ")\n",
        "preprocessor = ColumnTransformer(\n",
        "    transformers=[\n",
        "       \n",
        "        (\"cat\", categorical_transformer, categorical_features),\n",
        "    ]\n",
        ") "
      ],
      "metadata": {
        "id": "Dth4kNKLLHeO"
      },
      "execution_count": 27,
      "outputs": []
    },
    {
      "cell_type": "code",
      "source": [
        "# Настройка параметров оценивания алгоритма\n",
        "random_seed=0\n",
        "num_folds = 10\n",
        "n_iter = 1000\n",
        "n_estimators = 100\n",
        "scoring = 'f1'\n",
        "target_names = ['male', 'female']"
      ],
      "metadata": {
        "id": "bVlHVULtLKDv"
      },
      "execution_count": 28,
      "outputs": []
    },
    {
      "cell_type": "code",
      "source": [
        "clf = Pipeline(\n",
        "    steps=[(\"preprocessor\", preprocessor), (\"classifier\", LogisticRegression(max_iter=1000, random_state=random_seed))]\n",
        ")"
      ],
      "metadata": {
        "id": "YgMd6ORMLM9Q"
      },
      "execution_count": 29,
      "outputs": []
    },
    {
      "cell_type": "code",
      "source": [
        "X_train, X_test, y_train, y_test = train_test_split(X, y, test_size=0.2, random_state=random_seed)\n",
        "clf.fit(X_train, y_train)\n",
        "print(\"model score: %.3f\" % clf.score(X_test, y_test))"
      ],
      "metadata": {
        "colab": {
          "base_uri": "https://localhost:8080/"
        },
        "id": "D9xj5rGgLPlo",
        "outputId": "d03adea4-7c7a-4d73-83d5-e7611945b845"
      },
      "execution_count": 30,
      "outputs": [
        {
          "output_type": "stream",
          "name": "stdout",
          "text": [
            "model score: 0.967\n"
          ]
        }
      ]
    },
    {
      "cell_type": "code",
      "source": [
        "# Выполним оптимизацию\n",
        "param_grid = {\n",
        "  \n",
        "    \"preprocessor__cat__selector__percentile\": [10, 30, 50, 55, 70, 80],\n",
        "    \"classifier__C\": [0.1, 1.0, 10,50, 100, 200,],\n",
        "}\n",
        "\n",
        "search_cv = RandomizedSearchCV(clf, param_grid, n_iter=10, random_state=random_seed)"
      ],
      "metadata": {
        "id": "NTNMYZOWLSim"
      },
      "execution_count": 31,
      "outputs": []
    },
    {
      "cell_type": "code",
      "source": [
        "search_cv.fit(X_train, y_train)\n",
        "\n",
        "print(\"Best params:\")\n",
        "print(search_cv.best_params_)"
      ],
      "metadata": {
        "colab": {
          "base_uri": "https://localhost:8080/"
        },
        "id": "cWzSxD5YLWQ8",
        "outputId": "2bb89371-fd36-4e69-9c76-137de8b4ea4f"
      },
      "execution_count": 32,
      "outputs": [
        {
          "output_type": "stream",
          "name": "stdout",
          "text": [
            "Best params:\n",
            "{'preprocessor__cat__selector__percentile': 50, 'classifier__C': 50}\n"
          ]
        }
      ]
    },
    {
      "cell_type": "code",
      "source": [
        "cv_results = pd.DataFrame(search_cv.cv_results_)\n",
        "cv_results = cv_results.sort_values(\"mean_test_score\", ascending=False)\n",
        "cv_results[\n",
        "    [\n",
        "        \"mean_test_score\",\n",
        "        \"std_test_score\",\n",
        "      \n",
        "        \"param_preprocessor__cat__selector__percentile\",\n",
        "        \"param_classifier__C\",\n",
        "    ]\n",
        "].head(5)"
      ],
      "metadata": {
        "colab": {
          "base_uri": "https://localhost:8080/",
          "height": 206
        },
        "id": "wnOyKOUCLfaP",
        "outputId": "092e37e5-d288-4086-c698-6f146b362f54"
      },
      "execution_count": 33,
      "outputs": [
        {
          "output_type": "execute_result",
          "data": {
            "text/plain": [
              "   mean_test_score  std_test_score  \\\n",
              "1         0.969442        0.004638   \n",
              "5         0.968827        0.004488   \n",
              "6         0.968827        0.004107   \n",
              "8         0.968827        0.004107   \n",
              "2         0.968673        0.004271   \n",
              "\n",
              "  param_preprocessor__cat__selector__percentile param_classifier__C  \n",
              "1                                            50                  50  \n",
              "5                                            55                  10  \n",
              "6                                            70                 1.0  \n",
              "8                                            80                 1.0  \n",
              "2                                            70                  10  "
            ],
            "text/html": [
              "\n",
              "  <div id=\"df-5e357fcb-42c9-4cc9-a5cd-fab5c7a3663a\">\n",
              "    <div class=\"colab-df-container\">\n",
              "      <div>\n",
              "<style scoped>\n",
              "    .dataframe tbody tr th:only-of-type {\n",
              "        vertical-align: middle;\n",
              "    }\n",
              "\n",
              "    .dataframe tbody tr th {\n",
              "        vertical-align: top;\n",
              "    }\n",
              "\n",
              "    .dataframe thead th {\n",
              "        text-align: right;\n",
              "    }\n",
              "</style>\n",
              "<table border=\"1\" class=\"dataframe\">\n",
              "  <thead>\n",
              "    <tr style=\"text-align: right;\">\n",
              "      <th></th>\n",
              "      <th>mean_test_score</th>\n",
              "      <th>std_test_score</th>\n",
              "      <th>param_preprocessor__cat__selector__percentile</th>\n",
              "      <th>param_classifier__C</th>\n",
              "    </tr>\n",
              "  </thead>\n",
              "  <tbody>\n",
              "    <tr>\n",
              "      <th>1</th>\n",
              "      <td>0.969442</td>\n",
              "      <td>0.004638</td>\n",
              "      <td>50</td>\n",
              "      <td>50</td>\n",
              "    </tr>\n",
              "    <tr>\n",
              "      <th>5</th>\n",
              "      <td>0.968827</td>\n",
              "      <td>0.004488</td>\n",
              "      <td>55</td>\n",
              "      <td>10</td>\n",
              "    </tr>\n",
              "    <tr>\n",
              "      <th>6</th>\n",
              "      <td>0.968827</td>\n",
              "      <td>0.004107</td>\n",
              "      <td>70</td>\n",
              "      <td>1.0</td>\n",
              "    </tr>\n",
              "    <tr>\n",
              "      <th>8</th>\n",
              "      <td>0.968827</td>\n",
              "      <td>0.004107</td>\n",
              "      <td>80</td>\n",
              "      <td>1.0</td>\n",
              "    </tr>\n",
              "    <tr>\n",
              "      <th>2</th>\n",
              "      <td>0.968673</td>\n",
              "      <td>0.004271</td>\n",
              "      <td>70</td>\n",
              "      <td>10</td>\n",
              "    </tr>\n",
              "  </tbody>\n",
              "</table>\n",
              "</div>\n",
              "      <button class=\"colab-df-convert\" onclick=\"convertToInteractive('df-5e357fcb-42c9-4cc9-a5cd-fab5c7a3663a')\"\n",
              "              title=\"Convert this dataframe to an interactive table.\"\n",
              "              style=\"display:none;\">\n",
              "        \n",
              "  <svg xmlns=\"http://www.w3.org/2000/svg\" height=\"24px\"viewBox=\"0 0 24 24\"\n",
              "       width=\"24px\">\n",
              "    <path d=\"M0 0h24v24H0V0z\" fill=\"none\"/>\n",
              "    <path d=\"M18.56 5.44l.94 2.06.94-2.06 2.06-.94-2.06-.94-.94-2.06-.94 2.06-2.06.94zm-11 1L8.5 8.5l.94-2.06 2.06-.94-2.06-.94L8.5 2.5l-.94 2.06-2.06.94zm10 10l.94 2.06.94-2.06 2.06-.94-2.06-.94-.94-2.06-.94 2.06-2.06.94z\"/><path d=\"M17.41 7.96l-1.37-1.37c-.4-.4-.92-.59-1.43-.59-.52 0-1.04.2-1.43.59L10.3 9.45l-7.72 7.72c-.78.78-.78 2.05 0 2.83L4 21.41c.39.39.9.59 1.41.59.51 0 1.02-.2 1.41-.59l7.78-7.78 2.81-2.81c.8-.78.8-2.07 0-2.86zM5.41 20L4 18.59l7.72-7.72 1.47 1.35L5.41 20z\"/>\n",
              "  </svg>\n",
              "      </button>\n",
              "      \n",
              "  <style>\n",
              "    .colab-df-container {\n",
              "      display:flex;\n",
              "      flex-wrap:wrap;\n",
              "      gap: 12px;\n",
              "    }\n",
              "\n",
              "    .colab-df-convert {\n",
              "      background-color: #E8F0FE;\n",
              "      border: none;\n",
              "      border-radius: 50%;\n",
              "      cursor: pointer;\n",
              "      display: none;\n",
              "      fill: #1967D2;\n",
              "      height: 32px;\n",
              "      padding: 0 0 0 0;\n",
              "      width: 32px;\n",
              "    }\n",
              "\n",
              "    .colab-df-convert:hover {\n",
              "      background-color: #E2EBFA;\n",
              "      box-shadow: 0px 1px 2px rgba(60, 64, 67, 0.3), 0px 1px 3px 1px rgba(60, 64, 67, 0.15);\n",
              "      fill: #174EA6;\n",
              "    }\n",
              "\n",
              "    [theme=dark] .colab-df-convert {\n",
              "      background-color: #3B4455;\n",
              "      fill: #D2E3FC;\n",
              "    }\n",
              "\n",
              "    [theme=dark] .colab-df-convert:hover {\n",
              "      background-color: #434B5C;\n",
              "      box-shadow: 0px 1px 3px 1px rgba(0, 0, 0, 0.15);\n",
              "      filter: drop-shadow(0px 1px 2px rgba(0, 0, 0, 0.3));\n",
              "      fill: #FFFFFF;\n",
              "    }\n",
              "  </style>\n",
              "\n",
              "      <script>\n",
              "        const buttonEl =\n",
              "          document.querySelector('#df-5e357fcb-42c9-4cc9-a5cd-fab5c7a3663a button.colab-df-convert');\n",
              "        buttonEl.style.display =\n",
              "          google.colab.kernel.accessAllowed ? 'block' : 'none';\n",
              "\n",
              "        async function convertToInteractive(key) {\n",
              "          const element = document.querySelector('#df-5e357fcb-42c9-4cc9-a5cd-fab5c7a3663a');\n",
              "          const dataTable =\n",
              "            await google.colab.kernel.invokeFunction('convertToInteractive',\n",
              "                                                     [key], {});\n",
              "          if (!dataTable) return;\n",
              "\n",
              "          const docLinkHtml = 'Like what you see? Visit the ' +\n",
              "            '<a target=\"_blank\" href=https://colab.research.google.com/notebooks/data_table.ipynb>data table notebook</a>'\n",
              "            + ' to learn more about interactive tables.';\n",
              "          element.innerHTML = '';\n",
              "          dataTable['output_type'] = 'display_data';\n",
              "          await google.colab.output.renderOutput(dataTable, element);\n",
              "          const docLink = document.createElement('div');\n",
              "          docLink.innerHTML = docLinkHtml;\n",
              "          element.appendChild(docLink);\n",
              "        }\n",
              "      </script>\n",
              "    </div>\n",
              "  </div>\n",
              "  "
            ]
          },
          "metadata": {},
          "execution_count": 33
        }
      ]
    },
    {
      "cell_type": "code",
      "source": [
        "print(\n",
        "    \"accuracy of the best model from randomized search: \"\n",
        "    f\"{search_cv.score(X_test, y_test):.3f}\"\n",
        ")"
      ],
      "metadata": {
        "colab": {
          "base_uri": "https://localhost:8080/"
        },
        "id": "WkiFoFjDLktN",
        "outputId": "5fa53e45-ea15-4544-e8b6-64392eb97065"
      },
      "execution_count": 34,
      "outputs": [
        {
          "output_type": "stream",
          "name": "stdout",
          "text": [
            "accuracy of the best model from randomized search: 0.967\n"
          ]
        }
      ]
    },
    {
      "cell_type": "code",
      "source": [
        "predictions = search_cv.predict(X_test)\n",
        "pred_proba = search_cv.predict_proba(X_test)\n",
        "precision_score(y_test, predictions)"
      ],
      "metadata": {
        "colab": {
          "base_uri": "https://localhost:8080/"
        },
        "id": "_jtTZ_kgLnYi",
        "outputId": "dcb4211d-e27f-497b-b3fe-a498de4e738e"
      },
      "execution_count": 35,
      "outputs": [
        {
          "output_type": "execute_result",
          "data": {
            "text/plain": [
              "0.9632701421800948"
            ]
          },
          "metadata": {},
          "execution_count": 35
        }
      ]
    },
    {
      "cell_type": "code",
      "source": [
        "recall_score(y_test, predictions)"
      ],
      "metadata": {
        "colab": {
          "base_uri": "https://localhost:8080/"
        },
        "id": "-dVyqNGRLr65",
        "outputId": "f0c7f0a5-b750-48fc-d79e-0db865f5c085"
      },
      "execution_count": 36,
      "outputs": [
        {
          "output_type": "execute_result",
          "data": {
            "text/plain": [
              "0.9736526946107784"
            ]
          },
          "metadata": {},
          "execution_count": 36
        }
      ]
    },
    {
      "cell_type": "code",
      "source": [
        "f1_score(y_test, predictions)"
      ],
      "metadata": {
        "colab": {
          "base_uri": "https://localhost:8080/"
        },
        "id": "Y07m9PpzLvD3",
        "outputId": "4ec1a731-3082-45e5-82de-5352a49c14e4"
      },
      "execution_count": 37,
      "outputs": [
        {
          "output_type": "execute_result",
          "data": {
            "text/plain": [
              "0.9684335914234663"
            ]
          },
          "metadata": {},
          "execution_count": 37
        }
      ]
    },
    {
      "cell_type": "code",
      "source": [
        "# смотрим разницу факта и прогноза\n",
        "result = pd.DataFrame([y_test.to_numpy(), predictions]).T\n",
        "ind=result[result[0]!=result[1]].index\n",
        "data.iloc[ind]"
      ],
      "metadata": {
        "colab": {
          "base_uri": "https://localhost:8080/",
          "height": 1000
        },
        "id": "gEMz2MpgLxXn",
        "outputId": "fb5ac547-637a-408d-aa2d-d9e4d8986cfc"
      },
      "execution_count": 38,
      "outputs": [
        {
          "output_type": "execute_result",
          "data": {
            "text/plain": [
              "         id         name                                        description  \\\n",
              "14    22573          Сэм  Скромный и ласковый, нежный, добрый малыш Сэм!...   \n",
              "19    23039        Злата  Нашей Злате не нужно носить золото – она сама ...   \n",
              "29    22544       Тарзан  Тарзан – обладатель мультяшной внешности и мил...   \n",
              "70    22589        Черри  Москва\\nДевочка Черри, для своих Черешня.\\n\\nС...   \n",
              "115   22482        Альма  Москва МО\\n\\nВы только посмотрите какая красот...   \n",
              "116   22611         Егор  Из-за леса, из-за гор появляется ЕГОР♥️\\nПрост...   \n",
              "206   22669         Клим  Небольшой, ласковый и очень ориентированный на...   \n",
              "208   22671        Тейзи  Ищет дом и любящую семью очаровательная девочк...   \n",
              "215   22678       Мишель  Мишель 2 года, рост 50 см 17 кг\\nМишелька особ...   \n",
              "228   22690        Герой  Герой, 4 года\\nВ нём явно прослеживаются корни...   \n",
              "236   22697        Черри  Уверенная в себе девушка по имени Челси ищет т...   \n",
              "238   22699         Хлоя  Обнинск, Калужская область, Москва и МО. \\nИще...   \n",
              "241   22702         Гром  Очаровательный мальчик по имени Гром 7 мес ище...   \n",
              "254   22713         Кира  Знакомьтесь, Кира - собака-попрыгушка!\\nЕй 1,5...   \n",
              "267   22726          Фло  Фло♥️\\nВ свои младые годы ( Флоше всего 2 года...   \n",
              "279   22737          Ютв  Девочка (метис с овчаркой) ищет доброго хозяин...   \n",
              "305   22761  Дина и Рыжа  Ищем дом и папу-маму для рыжих малышек, девоче...   \n",
              "321   22776         Даня  #ИЩЕТДОМ\\nМосква, Питер, Краснодар!\\nЭтот трог...   \n",
              "383   22828        Алиса  Алиса, 1 год\\nРост 51 см. Вес 22 кг.\\nСовершен...   \n",
              "487   22920         Рала  Рала.\\n1 год.\\nРост около 49 см, вес около 18 ...   \n",
              "495   22928      Барбара  Москва.МО.\\nБарбара молодая, аккуратная, увере...   \n",
              "515   22948          Сэм  Очаровательное лопоухое чудо по имени Сэм 4,5 ...   \n",
              "534   16868         Норд  Норд молодой пес гигантской пастушье-охранной ...   \n",
              "535   22967       Гектор  Гектор уже  засиделся в ожидании своего челове...   \n",
              "551   22983      Варежка  Варежка - обладатель не только необычной внешн...   \n",
              "971   14929        Черри  Черри - вишенка на торте, является самой актив...   \n",
              "1032  14919         Кира  Она очень мечтала быть как Кира Найтли.Но полу...   \n",
              "1051  14943         Тина  ТинаЕсли вы ищите преданного и надежного  друг...   \n",
              "1052  15054        Оскар  Оскар – обладатель черной плюшевой шубки, окра...   \n",
              "1063  15454       Джафар  Этого милого малыша зовут Джафар. Он пока ещё ...   \n",
              "1065  14906        Кэрри  Если вы любите вкусно поесть, вам срочно надо ...   \n",
              "1096  14971       Клякса  - Ах мы мордочка чумазая, где ты пасть то так ...   \n",
              "1109  17340          Бим  Бим.\\nМетис овчарки или хаски.\\n1 год. Рожден ...   \n",
              "1117  14982         Леди  Леди - спокойная, уверенная в себе собака, зна...   \n",
              "1130  14998       Саймон  Москва и МО!Красавчик Саймон ищет дом!Друзья, ...   \n",
              "1265  15099         Эмми  Красотка Эмми ищет дом!  Красивая, грациозная,...   \n",
              "1270  15381         Тоби  Тобику около 4 лет.  Умненький, доброжелательн...   \n",
              "1290  15198      Николас  Николас – очарование полосатости, призванное у...   \n",
              "1316  21758          Уна  Уна - идеальная собака! Она прекрасно слушаетс...   \n",
              "1332  15151        Пуфик  ПуфикПуфикПуфикПуфикПуфикПуфикПуфикПуфик  Моло...   \n",
              "1411  15490        Барни  Мальчик.\\n3-4 месяца.\\nВырастет скорее всего б...   \n",
              "1478  15332         Люся  Большая малышка Люси мечтает стать домашней лю...   \n",
              "1531  17346         Буми  Экстраверт на сто процентов, общительный, энер...   \n",
              "1553  15366        Лисса  Смотрите какая модельная леди ищет дом!!! Ее и...   \n",
              "1569  15388         Дина  Диночка нежная красавица, немного стеснительна...   \n",
              "1585  15464         Луша  Обнинск, Калужская область, Москва и МО. \\nИще...   \n",
              "1611  15420    Джульетта  Джульетта.\\n\\nВозраст-2,5-3 года. Девочка здор...   \n",
              "1630  15453        Бетси  Бетси маленький бурундучок, с полоской на морд...   \n",
              "1646  15473         Роза  Роза с с щенячьего возраста живёт в приюте, сю...   \n",
              "1656  15481        Дэнни  Дэнни явно имеет охотничьи корни, о чем говори...   \n",
              "1667  15515        Лайма  Лайма – метис бордер-колли.  Любознательная и ...   \n",
              "1697  15522        Шерри  Шерри живет в приюте с возраста щенка. Какое-т...   \n",
              "1792  15673      Нюрочка  В добрые руки чудесная красавица по кличке Нюр...   \n",
              "\n",
              "      gender sex_name                                             result  \\\n",
              "14      male     masc  {'NOUN': 'masc', 'ADJF': 'masc', 'ADJS': 'masc...   \n",
              "19    female     femn  {'NOUN': 'femn', 'ADJF': 'neut', 'ADJS': 'neut...   \n",
              "29      male     neut  {'NOUN': 'neut', 'ADJF': 'masc', 'ADJS': 'neut...   \n",
              "70    female     femn  {'NOUN': 'femn', 'ADJF': 'femn', 'ADJS': None,...   \n",
              "115   female     femn  {'NOUN': 'femn', 'ADJF': 'femn', 'ADJS': 'femn...   \n",
              "116     male     masc  {'NOUN': 'femn', 'ADJF': 'masc', 'ADJS': 'neut...   \n",
              "206     male     neut  {'NOUN': 'masc', 'ADJF': 'masc', 'ADJS': 'neut...   \n",
              "208   female     femn  {'NOUN': 'femn', 'ADJF': 'femn', 'ADJS': 'femn...   \n",
              "215     male     masc  {'NOUN': 'masc', 'ADJF': 'femn', 'ADJS': 'masc...   \n",
              "228     male     neut  {'NOUN': 'masc', 'ADJF': 'masc', 'ADJS': 'masc...   \n",
              "236   female     femn  {'NOUN': 'masc', 'ADJF': None, 'ADJS': 'femn',...   \n",
              "238   female     femn  {'NOUN': 'femn', 'ADJF': 'neut', 'ADJS': 'neut...   \n",
              "241     male     masc  {'NOUN': 'masc', 'ADJF': 'masc', 'ADJS': 'femn...   \n",
              "254   female     femn  {'NOUN': 'masc', 'ADJF': 'femn', 'ADJS': 'neut...   \n",
              "267   female     neut  {'NOUN': 'masc', 'ADJF': None, 'ADJS': 'neut',...   \n",
              "279   female     femn  {'NOUN': 'masc', 'ADJF': 'femn', 'ADJS': 'femn...   \n",
              "305   female     femn  {'NOUN': 'femn', 'ADJF': None, 'ADJS': None, '...   \n",
              "321     male     neut  {'NOUN': 'masc', 'ADJF': 'masc', 'ADJS': 'neut...   \n",
              "383   female     femn  {'NOUN': 'femn', 'ADJF': 'femn', 'ADJS': 'femn...   \n",
              "487   female     femn  {'NOUN': 'femn', 'ADJF': 'femn', 'ADJS': 'femn...   \n",
              "495   female     femn  {'NOUN': 'femn', 'ADJF': 'femn', 'ADJS': 'femn...   \n",
              "515     male     masc  {'NOUN': 'masc', 'ADJF': 'masc', 'ADJS': 'masc...   \n",
              "534     male     masc  {'NOUN': 'masc', 'ADJF': 'masc', 'ADJS': 'masc...   \n",
              "535     male     neut  {'NOUN': 'masc', 'ADJF': 'neut', 'ADJS': 'neut...   \n",
              "551   female     femn  {'NOUN': 'femn', 'ADJF': 'neut', 'ADJS': 'neut...   \n",
              "971   female     femn  {'NOUN': 'femn', 'ADJF': 'femn', 'ADJS': 'neut...   \n",
              "1032  female     femn  {'NOUN': 'masc', 'ADJF': 'masc', 'ADJS': 'femn...   \n",
              "1051  female     neut  {'NOUN': 'femn', 'ADJF': 'femn', 'ADJS': 'neut...   \n",
              "1052    male     masc  {'NOUN': 'masc', 'ADJF': 'masc', 'ADJS': 'neut...   \n",
              "1063    male     masc  {'NOUN': 'masc', 'ADJF': 'masc', 'ADJS': 'femn...   \n",
              "1065  female     masc  {'NOUN': 'masc', 'ADJF': 'femn', 'ADJS': 'femn...   \n",
              "1096  female     femn  {'NOUN': 'femn', 'ADJF': 'femn', 'ADJS': 'femn...   \n",
              "1109    male     masc  {'NOUN': 'masc', 'ADJF': 'masc', 'ADJS': 'masc...   \n",
              "1117  female     femn  {'NOUN': 'femn', 'ADJF': 'femn', 'ADJS': 'femn...   \n",
              "1130    male     masc  {'NOUN': 'masc', 'ADJF': 'masc', 'ADJS': 'masc...   \n",
              "1265  female     femn  {'NOUN': 'femn', 'ADJF': 'femn', 'ADJS': 'femn...   \n",
              "1270    male     neut  {'NOUN': 'masc', 'ADJF': 'masc', 'ADJS': 'masc...   \n",
              "1290    male     neut  {'NOUN': 'neut', 'ADJF': None, 'ADJS': 'neut',...   \n",
              "1316  female     femn  {'NOUN': 'neut', 'ADJF': None, 'ADJS': 'femn',...   \n",
              "1332    male     masc  {'NOUN': 'masc', 'ADJF': 'masc', 'ADJS': 'masc...   \n",
              "1411    male     neut  {'NOUN': 'masc', 'ADJF': 'masc', 'ADJS': 'neut...   \n",
              "1478  female     neut  {'NOUN': 'masc', 'ADJF': 'femn', 'ADJS': 'femn...   \n",
              "1531    male     neut  {'NOUN': 'masc', 'ADJF': 'masc', 'ADJS': 'neut...   \n",
              "1553  female     femn  {'NOUN': 'femn', 'ADJF': 'femn', 'ADJS': 'neut...   \n",
              "1569  female     femn  {'NOUN': 'femn', 'ADJF': 'femn', 'ADJS': 'neut...   \n",
              "1585  female     femn  {'NOUN': 'femn', 'ADJF': 'femn', 'ADJS': 'femn...   \n",
              "1611  female     femn  {'NOUN': 'femn', 'ADJF': None, 'ADJS': 'femn',...   \n",
              "1630  female     neut  {'NOUN': 'femn', 'ADJF': 'femn', 'ADJS': 'femn...   \n",
              "1646  female     femn  {'NOUN': 'masc', 'ADJF': 'masc', 'ADJS': 'neut...   \n",
              "1656    male     neut  {'NOUN': 'neut', 'ADJF': 'masc', 'ADJS': 'masc...   \n",
              "1667  female     femn  {'NOUN': 'masc', 'ADJF': 'masc', 'ADJS': 'femn...   \n",
              "1697  female     femn  {'NOUN': 'femn', 'ADJF': 'neut', 'ADJS': 'femn...   \n",
              "1792  female     femn  {'NOUN': 'femn', 'ADJF': 'femn', 'ADJS': 'femn...   \n",
              "\n",
              "     sex_noun sex_adjf sex_adjs sex_npro sex_prts  \n",
              "14       masc     masc     masc     masc     masc  \n",
              "19       femn     neut     neut     femn     femn  \n",
              "29       neut     masc     neut     masc     masc  \n",
              "70       femn     femn     neut     femn     femn  \n",
              "115      femn     femn     femn     femn     femn  \n",
              "116      femn     masc     neut     masc     neut  \n",
              "206      masc     masc     neut     neut     neut  \n",
              "208      femn     femn     femn     neut     femn  \n",
              "215      masc     femn     masc     masc     masc  \n",
              "228      masc     masc     masc     masc     masc  \n",
              "236      masc     neut     femn     femn     femn  \n",
              "238      femn     neut     neut     femn     femn  \n",
              "241      masc     masc     femn     masc     masc  \n",
              "254      masc     femn     neut     femn     femn  \n",
              "267      masc     neut     neut     femn     femn  \n",
              "279      masc     femn     femn     neut     femn  \n",
              "305      femn     neut     neut     neut     neut  \n",
              "321      masc     masc     neut     masc     masc  \n",
              "383      femn     femn     femn     femn     femn  \n",
              "487      femn     femn     femn     femn     femn  \n",
              "495      femn     femn     femn     femn     femn  \n",
              "515      masc     masc     masc     masc     masc  \n",
              "534      masc     masc     masc     masc     masc  \n",
              "535      masc     neut     neut     masc     neut  \n",
              "551      femn     neut     neut     femn     neut  \n",
              "971      femn     femn     neut     femn     neut  \n",
              "1032     masc     masc     femn     femn     femn  \n",
              "1051     femn     femn     neut     femn     femn  \n",
              "1052     masc     masc     neut     masc     masc  \n",
              "1063     masc     masc     femn     neut     neut  \n",
              "1065     masc     femn     femn     neut     femn  \n",
              "1096     femn     femn     femn     neut     femn  \n",
              "1109     masc     masc     masc     masc     masc  \n",
              "1117     femn     femn     femn     femn     femn  \n",
              "1130     masc     masc     masc     masc     masc  \n",
              "1265     femn     femn     femn     neut     femn  \n",
              "1270     masc     masc     masc     neut     masc  \n",
              "1290     neut     neut     neut     masc     masc  \n",
              "1316     neut     neut     femn     femn     neut  \n",
              "1332     masc     masc     masc     masc     masc  \n",
              "1411     masc     masc     neut     masc     neut  \n",
              "1478     masc     femn     femn     femn     femn  \n",
              "1531     masc     masc     neut     masc     neut  \n",
              "1553     femn     femn     neut     femn     femn  \n",
              "1569     femn     femn     neut     neut     neut  \n",
              "1585     femn     femn     femn     femn     femn  \n",
              "1611     femn     neut     femn     femn     femn  \n",
              "1630     femn     femn     femn     neut     femn  \n",
              "1646     masc     masc     neut     neut     femn  \n",
              "1656     neut     masc     masc     masc     masc  \n",
              "1667     masc     masc     femn     neut     femn  \n",
              "1697     femn     neut     femn     neut     neut  \n",
              "1792     femn     femn     femn     femn     femn  "
            ],
            "text/html": [
              "\n",
              "  <div id=\"df-c21fab75-5da1-4737-975c-e664b1603386\">\n",
              "    <div class=\"colab-df-container\">\n",
              "      <div>\n",
              "<style scoped>\n",
              "    .dataframe tbody tr th:only-of-type {\n",
              "        vertical-align: middle;\n",
              "    }\n",
              "\n",
              "    .dataframe tbody tr th {\n",
              "        vertical-align: top;\n",
              "    }\n",
              "\n",
              "    .dataframe thead th {\n",
              "        text-align: right;\n",
              "    }\n",
              "</style>\n",
              "<table border=\"1\" class=\"dataframe\">\n",
              "  <thead>\n",
              "    <tr style=\"text-align: right;\">\n",
              "      <th></th>\n",
              "      <th>id</th>\n",
              "      <th>name</th>\n",
              "      <th>description</th>\n",
              "      <th>gender</th>\n",
              "      <th>sex_name</th>\n",
              "      <th>result</th>\n",
              "      <th>sex_noun</th>\n",
              "      <th>sex_adjf</th>\n",
              "      <th>sex_adjs</th>\n",
              "      <th>sex_npro</th>\n",
              "      <th>sex_prts</th>\n",
              "    </tr>\n",
              "  </thead>\n",
              "  <tbody>\n",
              "    <tr>\n",
              "      <th>14</th>\n",
              "      <td>22573</td>\n",
              "      <td>Сэм</td>\n",
              "      <td>Скромный и ласковый, нежный, добрый малыш Сэм!...</td>\n",
              "      <td>male</td>\n",
              "      <td>masc</td>\n",
              "      <td>{'NOUN': 'masc', 'ADJF': 'masc', 'ADJS': 'masc...</td>\n",
              "      <td>masc</td>\n",
              "      <td>masc</td>\n",
              "      <td>masc</td>\n",
              "      <td>masc</td>\n",
              "      <td>masc</td>\n",
              "    </tr>\n",
              "    <tr>\n",
              "      <th>19</th>\n",
              "      <td>23039</td>\n",
              "      <td>Злата</td>\n",
              "      <td>Нашей Злате не нужно носить золото – она сама ...</td>\n",
              "      <td>female</td>\n",
              "      <td>femn</td>\n",
              "      <td>{'NOUN': 'femn', 'ADJF': 'neut', 'ADJS': 'neut...</td>\n",
              "      <td>femn</td>\n",
              "      <td>neut</td>\n",
              "      <td>neut</td>\n",
              "      <td>femn</td>\n",
              "      <td>femn</td>\n",
              "    </tr>\n",
              "    <tr>\n",
              "      <th>29</th>\n",
              "      <td>22544</td>\n",
              "      <td>Тарзан</td>\n",
              "      <td>Тарзан – обладатель мультяшной внешности и мил...</td>\n",
              "      <td>male</td>\n",
              "      <td>neut</td>\n",
              "      <td>{'NOUN': 'neut', 'ADJF': 'masc', 'ADJS': 'neut...</td>\n",
              "      <td>neut</td>\n",
              "      <td>masc</td>\n",
              "      <td>neut</td>\n",
              "      <td>masc</td>\n",
              "      <td>masc</td>\n",
              "    </tr>\n",
              "    <tr>\n",
              "      <th>70</th>\n",
              "      <td>22589</td>\n",
              "      <td>Черри</td>\n",
              "      <td>Москва\\nДевочка Черри, для своих Черешня.\\n\\nС...</td>\n",
              "      <td>female</td>\n",
              "      <td>femn</td>\n",
              "      <td>{'NOUN': 'femn', 'ADJF': 'femn', 'ADJS': None,...</td>\n",
              "      <td>femn</td>\n",
              "      <td>femn</td>\n",
              "      <td>neut</td>\n",
              "      <td>femn</td>\n",
              "      <td>femn</td>\n",
              "    </tr>\n",
              "    <tr>\n",
              "      <th>115</th>\n",
              "      <td>22482</td>\n",
              "      <td>Альма</td>\n",
              "      <td>Москва МО\\n\\nВы только посмотрите какая красот...</td>\n",
              "      <td>female</td>\n",
              "      <td>femn</td>\n",
              "      <td>{'NOUN': 'femn', 'ADJF': 'femn', 'ADJS': 'femn...</td>\n",
              "      <td>femn</td>\n",
              "      <td>femn</td>\n",
              "      <td>femn</td>\n",
              "      <td>femn</td>\n",
              "      <td>femn</td>\n",
              "    </tr>\n",
              "    <tr>\n",
              "      <th>116</th>\n",
              "      <td>22611</td>\n",
              "      <td>Егор</td>\n",
              "      <td>Из-за леса, из-за гор появляется ЕГОР♥️\\nПрост...</td>\n",
              "      <td>male</td>\n",
              "      <td>masc</td>\n",
              "      <td>{'NOUN': 'femn', 'ADJF': 'masc', 'ADJS': 'neut...</td>\n",
              "      <td>femn</td>\n",
              "      <td>masc</td>\n",
              "      <td>neut</td>\n",
              "      <td>masc</td>\n",
              "      <td>neut</td>\n",
              "    </tr>\n",
              "    <tr>\n",
              "      <th>206</th>\n",
              "      <td>22669</td>\n",
              "      <td>Клим</td>\n",
              "      <td>Небольшой, ласковый и очень ориентированный на...</td>\n",
              "      <td>male</td>\n",
              "      <td>neut</td>\n",
              "      <td>{'NOUN': 'masc', 'ADJF': 'masc', 'ADJS': 'neut...</td>\n",
              "      <td>masc</td>\n",
              "      <td>masc</td>\n",
              "      <td>neut</td>\n",
              "      <td>neut</td>\n",
              "      <td>neut</td>\n",
              "    </tr>\n",
              "    <tr>\n",
              "      <th>208</th>\n",
              "      <td>22671</td>\n",
              "      <td>Тейзи</td>\n",
              "      <td>Ищет дом и любящую семью очаровательная девочк...</td>\n",
              "      <td>female</td>\n",
              "      <td>femn</td>\n",
              "      <td>{'NOUN': 'femn', 'ADJF': 'femn', 'ADJS': 'femn...</td>\n",
              "      <td>femn</td>\n",
              "      <td>femn</td>\n",
              "      <td>femn</td>\n",
              "      <td>neut</td>\n",
              "      <td>femn</td>\n",
              "    </tr>\n",
              "    <tr>\n",
              "      <th>215</th>\n",
              "      <td>22678</td>\n",
              "      <td>Мишель</td>\n",
              "      <td>Мишель 2 года, рост 50 см 17 кг\\nМишелька особ...</td>\n",
              "      <td>male</td>\n",
              "      <td>masc</td>\n",
              "      <td>{'NOUN': 'masc', 'ADJF': 'femn', 'ADJS': 'masc...</td>\n",
              "      <td>masc</td>\n",
              "      <td>femn</td>\n",
              "      <td>masc</td>\n",
              "      <td>masc</td>\n",
              "      <td>masc</td>\n",
              "    </tr>\n",
              "    <tr>\n",
              "      <th>228</th>\n",
              "      <td>22690</td>\n",
              "      <td>Герой</td>\n",
              "      <td>Герой, 4 года\\nВ нём явно прослеживаются корни...</td>\n",
              "      <td>male</td>\n",
              "      <td>neut</td>\n",
              "      <td>{'NOUN': 'masc', 'ADJF': 'masc', 'ADJS': 'masc...</td>\n",
              "      <td>masc</td>\n",
              "      <td>masc</td>\n",
              "      <td>masc</td>\n",
              "      <td>masc</td>\n",
              "      <td>masc</td>\n",
              "    </tr>\n",
              "    <tr>\n",
              "      <th>236</th>\n",
              "      <td>22697</td>\n",
              "      <td>Черри</td>\n",
              "      <td>Уверенная в себе девушка по имени Челси ищет т...</td>\n",
              "      <td>female</td>\n",
              "      <td>femn</td>\n",
              "      <td>{'NOUN': 'masc', 'ADJF': None, 'ADJS': 'femn',...</td>\n",
              "      <td>masc</td>\n",
              "      <td>neut</td>\n",
              "      <td>femn</td>\n",
              "      <td>femn</td>\n",
              "      <td>femn</td>\n",
              "    </tr>\n",
              "    <tr>\n",
              "      <th>238</th>\n",
              "      <td>22699</td>\n",
              "      <td>Хлоя</td>\n",
              "      <td>Обнинск, Калужская область, Москва и МО. \\nИще...</td>\n",
              "      <td>female</td>\n",
              "      <td>femn</td>\n",
              "      <td>{'NOUN': 'femn', 'ADJF': 'neut', 'ADJS': 'neut...</td>\n",
              "      <td>femn</td>\n",
              "      <td>neut</td>\n",
              "      <td>neut</td>\n",
              "      <td>femn</td>\n",
              "      <td>femn</td>\n",
              "    </tr>\n",
              "    <tr>\n",
              "      <th>241</th>\n",
              "      <td>22702</td>\n",
              "      <td>Гром</td>\n",
              "      <td>Очаровательный мальчик по имени Гром 7 мес ище...</td>\n",
              "      <td>male</td>\n",
              "      <td>masc</td>\n",
              "      <td>{'NOUN': 'masc', 'ADJF': 'masc', 'ADJS': 'femn...</td>\n",
              "      <td>masc</td>\n",
              "      <td>masc</td>\n",
              "      <td>femn</td>\n",
              "      <td>masc</td>\n",
              "      <td>masc</td>\n",
              "    </tr>\n",
              "    <tr>\n",
              "      <th>254</th>\n",
              "      <td>22713</td>\n",
              "      <td>Кира</td>\n",
              "      <td>Знакомьтесь, Кира - собака-попрыгушка!\\nЕй 1,5...</td>\n",
              "      <td>female</td>\n",
              "      <td>femn</td>\n",
              "      <td>{'NOUN': 'masc', 'ADJF': 'femn', 'ADJS': 'neut...</td>\n",
              "      <td>masc</td>\n",
              "      <td>femn</td>\n",
              "      <td>neut</td>\n",
              "      <td>femn</td>\n",
              "      <td>femn</td>\n",
              "    </tr>\n",
              "    <tr>\n",
              "      <th>267</th>\n",
              "      <td>22726</td>\n",
              "      <td>Фло</td>\n",
              "      <td>Фло♥️\\nВ свои младые годы ( Флоше всего 2 года...</td>\n",
              "      <td>female</td>\n",
              "      <td>neut</td>\n",
              "      <td>{'NOUN': 'masc', 'ADJF': None, 'ADJS': 'neut',...</td>\n",
              "      <td>masc</td>\n",
              "      <td>neut</td>\n",
              "      <td>neut</td>\n",
              "      <td>femn</td>\n",
              "      <td>femn</td>\n",
              "    </tr>\n",
              "    <tr>\n",
              "      <th>279</th>\n",
              "      <td>22737</td>\n",
              "      <td>Ютв</td>\n",
              "      <td>Девочка (метис с овчаркой) ищет доброго хозяин...</td>\n",
              "      <td>female</td>\n",
              "      <td>femn</td>\n",
              "      <td>{'NOUN': 'masc', 'ADJF': 'femn', 'ADJS': 'femn...</td>\n",
              "      <td>masc</td>\n",
              "      <td>femn</td>\n",
              "      <td>femn</td>\n",
              "      <td>neut</td>\n",
              "      <td>femn</td>\n",
              "    </tr>\n",
              "    <tr>\n",
              "      <th>305</th>\n",
              "      <td>22761</td>\n",
              "      <td>Дина и Рыжа</td>\n",
              "      <td>Ищем дом и папу-маму для рыжих малышек, девоче...</td>\n",
              "      <td>female</td>\n",
              "      <td>femn</td>\n",
              "      <td>{'NOUN': 'femn', 'ADJF': None, 'ADJS': None, '...</td>\n",
              "      <td>femn</td>\n",
              "      <td>neut</td>\n",
              "      <td>neut</td>\n",
              "      <td>neut</td>\n",
              "      <td>neut</td>\n",
              "    </tr>\n",
              "    <tr>\n",
              "      <th>321</th>\n",
              "      <td>22776</td>\n",
              "      <td>Даня</td>\n",
              "      <td>#ИЩЕТДОМ\\nМосква, Питер, Краснодар!\\nЭтот трог...</td>\n",
              "      <td>male</td>\n",
              "      <td>neut</td>\n",
              "      <td>{'NOUN': 'masc', 'ADJF': 'masc', 'ADJS': 'neut...</td>\n",
              "      <td>masc</td>\n",
              "      <td>masc</td>\n",
              "      <td>neut</td>\n",
              "      <td>masc</td>\n",
              "      <td>masc</td>\n",
              "    </tr>\n",
              "    <tr>\n",
              "      <th>383</th>\n",
              "      <td>22828</td>\n",
              "      <td>Алиса</td>\n",
              "      <td>Алиса, 1 год\\nРост 51 см. Вес 22 кг.\\nСовершен...</td>\n",
              "      <td>female</td>\n",
              "      <td>femn</td>\n",
              "      <td>{'NOUN': 'femn', 'ADJF': 'femn', 'ADJS': 'femn...</td>\n",
              "      <td>femn</td>\n",
              "      <td>femn</td>\n",
              "      <td>femn</td>\n",
              "      <td>femn</td>\n",
              "      <td>femn</td>\n",
              "    </tr>\n",
              "    <tr>\n",
              "      <th>487</th>\n",
              "      <td>22920</td>\n",
              "      <td>Рала</td>\n",
              "      <td>Рала.\\n1 год.\\nРост около 49 см, вес около 18 ...</td>\n",
              "      <td>female</td>\n",
              "      <td>femn</td>\n",
              "      <td>{'NOUN': 'femn', 'ADJF': 'femn', 'ADJS': 'femn...</td>\n",
              "      <td>femn</td>\n",
              "      <td>femn</td>\n",
              "      <td>femn</td>\n",
              "      <td>femn</td>\n",
              "      <td>femn</td>\n",
              "    </tr>\n",
              "    <tr>\n",
              "      <th>495</th>\n",
              "      <td>22928</td>\n",
              "      <td>Барбара</td>\n",
              "      <td>Москва.МО.\\nБарбара молодая, аккуратная, увере...</td>\n",
              "      <td>female</td>\n",
              "      <td>femn</td>\n",
              "      <td>{'NOUN': 'femn', 'ADJF': 'femn', 'ADJS': 'femn...</td>\n",
              "      <td>femn</td>\n",
              "      <td>femn</td>\n",
              "      <td>femn</td>\n",
              "      <td>femn</td>\n",
              "      <td>femn</td>\n",
              "    </tr>\n",
              "    <tr>\n",
              "      <th>515</th>\n",
              "      <td>22948</td>\n",
              "      <td>Сэм</td>\n",
              "      <td>Очаровательное лопоухое чудо по имени Сэм 4,5 ...</td>\n",
              "      <td>male</td>\n",
              "      <td>masc</td>\n",
              "      <td>{'NOUN': 'masc', 'ADJF': 'masc', 'ADJS': 'masc...</td>\n",
              "      <td>masc</td>\n",
              "      <td>masc</td>\n",
              "      <td>masc</td>\n",
              "      <td>masc</td>\n",
              "      <td>masc</td>\n",
              "    </tr>\n",
              "    <tr>\n",
              "      <th>534</th>\n",
              "      <td>16868</td>\n",
              "      <td>Норд</td>\n",
              "      <td>Норд молодой пес гигантской пастушье-охранной ...</td>\n",
              "      <td>male</td>\n",
              "      <td>masc</td>\n",
              "      <td>{'NOUN': 'masc', 'ADJF': 'masc', 'ADJS': 'masc...</td>\n",
              "      <td>masc</td>\n",
              "      <td>masc</td>\n",
              "      <td>masc</td>\n",
              "      <td>masc</td>\n",
              "      <td>masc</td>\n",
              "    </tr>\n",
              "    <tr>\n",
              "      <th>535</th>\n",
              "      <td>22967</td>\n",
              "      <td>Гектор</td>\n",
              "      <td>Гектор уже  засиделся в ожидании своего челове...</td>\n",
              "      <td>male</td>\n",
              "      <td>neut</td>\n",
              "      <td>{'NOUN': 'masc', 'ADJF': 'neut', 'ADJS': 'neut...</td>\n",
              "      <td>masc</td>\n",
              "      <td>neut</td>\n",
              "      <td>neut</td>\n",
              "      <td>masc</td>\n",
              "      <td>neut</td>\n",
              "    </tr>\n",
              "    <tr>\n",
              "      <th>551</th>\n",
              "      <td>22983</td>\n",
              "      <td>Варежка</td>\n",
              "      <td>Варежка - обладатель не только необычной внешн...</td>\n",
              "      <td>female</td>\n",
              "      <td>femn</td>\n",
              "      <td>{'NOUN': 'femn', 'ADJF': 'neut', 'ADJS': 'neut...</td>\n",
              "      <td>femn</td>\n",
              "      <td>neut</td>\n",
              "      <td>neut</td>\n",
              "      <td>femn</td>\n",
              "      <td>neut</td>\n",
              "    </tr>\n",
              "    <tr>\n",
              "      <th>971</th>\n",
              "      <td>14929</td>\n",
              "      <td>Черри</td>\n",
              "      <td>Черри - вишенка на торте, является самой актив...</td>\n",
              "      <td>female</td>\n",
              "      <td>femn</td>\n",
              "      <td>{'NOUN': 'femn', 'ADJF': 'femn', 'ADJS': 'neut...</td>\n",
              "      <td>femn</td>\n",
              "      <td>femn</td>\n",
              "      <td>neut</td>\n",
              "      <td>femn</td>\n",
              "      <td>neut</td>\n",
              "    </tr>\n",
              "    <tr>\n",
              "      <th>1032</th>\n",
              "      <td>14919</td>\n",
              "      <td>Кира</td>\n",
              "      <td>Она очень мечтала быть как Кира Найтли.Но полу...</td>\n",
              "      <td>female</td>\n",
              "      <td>femn</td>\n",
              "      <td>{'NOUN': 'masc', 'ADJF': 'masc', 'ADJS': 'femn...</td>\n",
              "      <td>masc</td>\n",
              "      <td>masc</td>\n",
              "      <td>femn</td>\n",
              "      <td>femn</td>\n",
              "      <td>femn</td>\n",
              "    </tr>\n",
              "    <tr>\n",
              "      <th>1051</th>\n",
              "      <td>14943</td>\n",
              "      <td>Тина</td>\n",
              "      <td>ТинаЕсли вы ищите преданного и надежного  друг...</td>\n",
              "      <td>female</td>\n",
              "      <td>neut</td>\n",
              "      <td>{'NOUN': 'femn', 'ADJF': 'femn', 'ADJS': 'neut...</td>\n",
              "      <td>femn</td>\n",
              "      <td>femn</td>\n",
              "      <td>neut</td>\n",
              "      <td>femn</td>\n",
              "      <td>femn</td>\n",
              "    </tr>\n",
              "    <tr>\n",
              "      <th>1052</th>\n",
              "      <td>15054</td>\n",
              "      <td>Оскар</td>\n",
              "      <td>Оскар – обладатель черной плюшевой шубки, окра...</td>\n",
              "      <td>male</td>\n",
              "      <td>masc</td>\n",
              "      <td>{'NOUN': 'masc', 'ADJF': 'masc', 'ADJS': 'neut...</td>\n",
              "      <td>masc</td>\n",
              "      <td>masc</td>\n",
              "      <td>neut</td>\n",
              "      <td>masc</td>\n",
              "      <td>masc</td>\n",
              "    </tr>\n",
              "    <tr>\n",
              "      <th>1063</th>\n",
              "      <td>15454</td>\n",
              "      <td>Джафар</td>\n",
              "      <td>Этого милого малыша зовут Джафар. Он пока ещё ...</td>\n",
              "      <td>male</td>\n",
              "      <td>masc</td>\n",
              "      <td>{'NOUN': 'masc', 'ADJF': 'masc', 'ADJS': 'femn...</td>\n",
              "      <td>masc</td>\n",
              "      <td>masc</td>\n",
              "      <td>femn</td>\n",
              "      <td>neut</td>\n",
              "      <td>neut</td>\n",
              "    </tr>\n",
              "    <tr>\n",
              "      <th>1065</th>\n",
              "      <td>14906</td>\n",
              "      <td>Кэрри</td>\n",
              "      <td>Если вы любите вкусно поесть, вам срочно надо ...</td>\n",
              "      <td>female</td>\n",
              "      <td>masc</td>\n",
              "      <td>{'NOUN': 'masc', 'ADJF': 'femn', 'ADJS': 'femn...</td>\n",
              "      <td>masc</td>\n",
              "      <td>femn</td>\n",
              "      <td>femn</td>\n",
              "      <td>neut</td>\n",
              "      <td>femn</td>\n",
              "    </tr>\n",
              "    <tr>\n",
              "      <th>1096</th>\n",
              "      <td>14971</td>\n",
              "      <td>Клякса</td>\n",
              "      <td>- Ах мы мордочка чумазая, где ты пасть то так ...</td>\n",
              "      <td>female</td>\n",
              "      <td>femn</td>\n",
              "      <td>{'NOUN': 'femn', 'ADJF': 'femn', 'ADJS': 'femn...</td>\n",
              "      <td>femn</td>\n",
              "      <td>femn</td>\n",
              "      <td>femn</td>\n",
              "      <td>neut</td>\n",
              "      <td>femn</td>\n",
              "    </tr>\n",
              "    <tr>\n",
              "      <th>1109</th>\n",
              "      <td>17340</td>\n",
              "      <td>Бим</td>\n",
              "      <td>Бим.\\nМетис овчарки или хаски.\\n1 год. Рожден ...</td>\n",
              "      <td>male</td>\n",
              "      <td>masc</td>\n",
              "      <td>{'NOUN': 'masc', 'ADJF': 'masc', 'ADJS': 'masc...</td>\n",
              "      <td>masc</td>\n",
              "      <td>masc</td>\n",
              "      <td>masc</td>\n",
              "      <td>masc</td>\n",
              "      <td>masc</td>\n",
              "    </tr>\n",
              "    <tr>\n",
              "      <th>1117</th>\n",
              "      <td>14982</td>\n",
              "      <td>Леди</td>\n",
              "      <td>Леди - спокойная, уверенная в себе собака, зна...</td>\n",
              "      <td>female</td>\n",
              "      <td>femn</td>\n",
              "      <td>{'NOUN': 'femn', 'ADJF': 'femn', 'ADJS': 'femn...</td>\n",
              "      <td>femn</td>\n",
              "      <td>femn</td>\n",
              "      <td>femn</td>\n",
              "      <td>femn</td>\n",
              "      <td>femn</td>\n",
              "    </tr>\n",
              "    <tr>\n",
              "      <th>1130</th>\n",
              "      <td>14998</td>\n",
              "      <td>Саймон</td>\n",
              "      <td>Москва и МО!Красавчик Саймон ищет дом!Друзья, ...</td>\n",
              "      <td>male</td>\n",
              "      <td>masc</td>\n",
              "      <td>{'NOUN': 'masc', 'ADJF': 'masc', 'ADJS': 'masc...</td>\n",
              "      <td>masc</td>\n",
              "      <td>masc</td>\n",
              "      <td>masc</td>\n",
              "      <td>masc</td>\n",
              "      <td>masc</td>\n",
              "    </tr>\n",
              "    <tr>\n",
              "      <th>1265</th>\n",
              "      <td>15099</td>\n",
              "      <td>Эмми</td>\n",
              "      <td>Красотка Эмми ищет дом!  Красивая, грациозная,...</td>\n",
              "      <td>female</td>\n",
              "      <td>femn</td>\n",
              "      <td>{'NOUN': 'femn', 'ADJF': 'femn', 'ADJS': 'femn...</td>\n",
              "      <td>femn</td>\n",
              "      <td>femn</td>\n",
              "      <td>femn</td>\n",
              "      <td>neut</td>\n",
              "      <td>femn</td>\n",
              "    </tr>\n",
              "    <tr>\n",
              "      <th>1270</th>\n",
              "      <td>15381</td>\n",
              "      <td>Тоби</td>\n",
              "      <td>Тобику около 4 лет.  Умненький, доброжелательн...</td>\n",
              "      <td>male</td>\n",
              "      <td>neut</td>\n",
              "      <td>{'NOUN': 'masc', 'ADJF': 'masc', 'ADJS': 'masc...</td>\n",
              "      <td>masc</td>\n",
              "      <td>masc</td>\n",
              "      <td>masc</td>\n",
              "      <td>neut</td>\n",
              "      <td>masc</td>\n",
              "    </tr>\n",
              "    <tr>\n",
              "      <th>1290</th>\n",
              "      <td>15198</td>\n",
              "      <td>Николас</td>\n",
              "      <td>Николас – очарование полосатости, призванное у...</td>\n",
              "      <td>male</td>\n",
              "      <td>neut</td>\n",
              "      <td>{'NOUN': 'neut', 'ADJF': None, 'ADJS': 'neut',...</td>\n",
              "      <td>neut</td>\n",
              "      <td>neut</td>\n",
              "      <td>neut</td>\n",
              "      <td>masc</td>\n",
              "      <td>masc</td>\n",
              "    </tr>\n",
              "    <tr>\n",
              "      <th>1316</th>\n",
              "      <td>21758</td>\n",
              "      <td>Уна</td>\n",
              "      <td>Уна - идеальная собака! Она прекрасно слушаетс...</td>\n",
              "      <td>female</td>\n",
              "      <td>femn</td>\n",
              "      <td>{'NOUN': 'neut', 'ADJF': None, 'ADJS': 'femn',...</td>\n",
              "      <td>neut</td>\n",
              "      <td>neut</td>\n",
              "      <td>femn</td>\n",
              "      <td>femn</td>\n",
              "      <td>neut</td>\n",
              "    </tr>\n",
              "    <tr>\n",
              "      <th>1332</th>\n",
              "      <td>15151</td>\n",
              "      <td>Пуфик</td>\n",
              "      <td>ПуфикПуфикПуфикПуфикПуфикПуфикПуфикПуфик  Моло...</td>\n",
              "      <td>male</td>\n",
              "      <td>masc</td>\n",
              "      <td>{'NOUN': 'masc', 'ADJF': 'masc', 'ADJS': 'masc...</td>\n",
              "      <td>masc</td>\n",
              "      <td>masc</td>\n",
              "      <td>masc</td>\n",
              "      <td>masc</td>\n",
              "      <td>masc</td>\n",
              "    </tr>\n",
              "    <tr>\n",
              "      <th>1411</th>\n",
              "      <td>15490</td>\n",
              "      <td>Барни</td>\n",
              "      <td>Мальчик.\\n3-4 месяца.\\nВырастет скорее всего б...</td>\n",
              "      <td>male</td>\n",
              "      <td>neut</td>\n",
              "      <td>{'NOUN': 'masc', 'ADJF': 'masc', 'ADJS': 'neut...</td>\n",
              "      <td>masc</td>\n",
              "      <td>masc</td>\n",
              "      <td>neut</td>\n",
              "      <td>masc</td>\n",
              "      <td>neut</td>\n",
              "    </tr>\n",
              "    <tr>\n",
              "      <th>1478</th>\n",
              "      <td>15332</td>\n",
              "      <td>Люся</td>\n",
              "      <td>Большая малышка Люси мечтает стать домашней лю...</td>\n",
              "      <td>female</td>\n",
              "      <td>neut</td>\n",
              "      <td>{'NOUN': 'masc', 'ADJF': 'femn', 'ADJS': 'femn...</td>\n",
              "      <td>masc</td>\n",
              "      <td>femn</td>\n",
              "      <td>femn</td>\n",
              "      <td>femn</td>\n",
              "      <td>femn</td>\n",
              "    </tr>\n",
              "    <tr>\n",
              "      <th>1531</th>\n",
              "      <td>17346</td>\n",
              "      <td>Буми</td>\n",
              "      <td>Экстраверт на сто процентов, общительный, энер...</td>\n",
              "      <td>male</td>\n",
              "      <td>neut</td>\n",
              "      <td>{'NOUN': 'masc', 'ADJF': 'masc', 'ADJS': 'neut...</td>\n",
              "      <td>masc</td>\n",
              "      <td>masc</td>\n",
              "      <td>neut</td>\n",
              "      <td>masc</td>\n",
              "      <td>neut</td>\n",
              "    </tr>\n",
              "    <tr>\n",
              "      <th>1553</th>\n",
              "      <td>15366</td>\n",
              "      <td>Лисса</td>\n",
              "      <td>Смотрите какая модельная леди ищет дом!!! Ее и...</td>\n",
              "      <td>female</td>\n",
              "      <td>femn</td>\n",
              "      <td>{'NOUN': 'femn', 'ADJF': 'femn', 'ADJS': 'neut...</td>\n",
              "      <td>femn</td>\n",
              "      <td>femn</td>\n",
              "      <td>neut</td>\n",
              "      <td>femn</td>\n",
              "      <td>femn</td>\n",
              "    </tr>\n",
              "    <tr>\n",
              "      <th>1569</th>\n",
              "      <td>15388</td>\n",
              "      <td>Дина</td>\n",
              "      <td>Диночка нежная красавица, немного стеснительна...</td>\n",
              "      <td>female</td>\n",
              "      <td>femn</td>\n",
              "      <td>{'NOUN': 'femn', 'ADJF': 'femn', 'ADJS': 'neut...</td>\n",
              "      <td>femn</td>\n",
              "      <td>femn</td>\n",
              "      <td>neut</td>\n",
              "      <td>neut</td>\n",
              "      <td>neut</td>\n",
              "    </tr>\n",
              "    <tr>\n",
              "      <th>1585</th>\n",
              "      <td>15464</td>\n",
              "      <td>Луша</td>\n",
              "      <td>Обнинск, Калужская область, Москва и МО. \\nИще...</td>\n",
              "      <td>female</td>\n",
              "      <td>femn</td>\n",
              "      <td>{'NOUN': 'femn', 'ADJF': 'femn', 'ADJS': 'femn...</td>\n",
              "      <td>femn</td>\n",
              "      <td>femn</td>\n",
              "      <td>femn</td>\n",
              "      <td>femn</td>\n",
              "      <td>femn</td>\n",
              "    </tr>\n",
              "    <tr>\n",
              "      <th>1611</th>\n",
              "      <td>15420</td>\n",
              "      <td>Джульетта</td>\n",
              "      <td>Джульетта.\\n\\nВозраст-2,5-3 года. Девочка здор...</td>\n",
              "      <td>female</td>\n",
              "      <td>femn</td>\n",
              "      <td>{'NOUN': 'femn', 'ADJF': None, 'ADJS': 'femn',...</td>\n",
              "      <td>femn</td>\n",
              "      <td>neut</td>\n",
              "      <td>femn</td>\n",
              "      <td>femn</td>\n",
              "      <td>femn</td>\n",
              "    </tr>\n",
              "    <tr>\n",
              "      <th>1630</th>\n",
              "      <td>15453</td>\n",
              "      <td>Бетси</td>\n",
              "      <td>Бетси маленький бурундучок, с полоской на морд...</td>\n",
              "      <td>female</td>\n",
              "      <td>neut</td>\n",
              "      <td>{'NOUN': 'femn', 'ADJF': 'femn', 'ADJS': 'femn...</td>\n",
              "      <td>femn</td>\n",
              "      <td>femn</td>\n",
              "      <td>femn</td>\n",
              "      <td>neut</td>\n",
              "      <td>femn</td>\n",
              "    </tr>\n",
              "    <tr>\n",
              "      <th>1646</th>\n",
              "      <td>15473</td>\n",
              "      <td>Роза</td>\n",
              "      <td>Роза с с щенячьего возраста живёт в приюте, сю...</td>\n",
              "      <td>female</td>\n",
              "      <td>femn</td>\n",
              "      <td>{'NOUN': 'masc', 'ADJF': 'masc', 'ADJS': 'neut...</td>\n",
              "      <td>masc</td>\n",
              "      <td>masc</td>\n",
              "      <td>neut</td>\n",
              "      <td>neut</td>\n",
              "      <td>femn</td>\n",
              "    </tr>\n",
              "    <tr>\n",
              "      <th>1656</th>\n",
              "      <td>15481</td>\n",
              "      <td>Дэнни</td>\n",
              "      <td>Дэнни явно имеет охотничьи корни, о чем говори...</td>\n",
              "      <td>male</td>\n",
              "      <td>neut</td>\n",
              "      <td>{'NOUN': 'neut', 'ADJF': 'masc', 'ADJS': 'masc...</td>\n",
              "      <td>neut</td>\n",
              "      <td>masc</td>\n",
              "      <td>masc</td>\n",
              "      <td>masc</td>\n",
              "      <td>masc</td>\n",
              "    </tr>\n",
              "    <tr>\n",
              "      <th>1667</th>\n",
              "      <td>15515</td>\n",
              "      <td>Лайма</td>\n",
              "      <td>Лайма – метис бордер-колли.  Любознательная и ...</td>\n",
              "      <td>female</td>\n",
              "      <td>femn</td>\n",
              "      <td>{'NOUN': 'masc', 'ADJF': 'masc', 'ADJS': 'femn...</td>\n",
              "      <td>masc</td>\n",
              "      <td>masc</td>\n",
              "      <td>femn</td>\n",
              "      <td>neut</td>\n",
              "      <td>femn</td>\n",
              "    </tr>\n",
              "    <tr>\n",
              "      <th>1697</th>\n",
              "      <td>15522</td>\n",
              "      <td>Шерри</td>\n",
              "      <td>Шерри живет в приюте с возраста щенка. Какое-т...</td>\n",
              "      <td>female</td>\n",
              "      <td>femn</td>\n",
              "      <td>{'NOUN': 'femn', 'ADJF': 'neut', 'ADJS': 'femn...</td>\n",
              "      <td>femn</td>\n",
              "      <td>neut</td>\n",
              "      <td>femn</td>\n",
              "      <td>neut</td>\n",
              "      <td>neut</td>\n",
              "    </tr>\n",
              "    <tr>\n",
              "      <th>1792</th>\n",
              "      <td>15673</td>\n",
              "      <td>Нюрочка</td>\n",
              "      <td>В добрые руки чудесная красавица по кличке Нюр...</td>\n",
              "      <td>female</td>\n",
              "      <td>femn</td>\n",
              "      <td>{'NOUN': 'femn', 'ADJF': 'femn', 'ADJS': 'femn...</td>\n",
              "      <td>femn</td>\n",
              "      <td>femn</td>\n",
              "      <td>femn</td>\n",
              "      <td>femn</td>\n",
              "      <td>femn</td>\n",
              "    </tr>\n",
              "  </tbody>\n",
              "</table>\n",
              "</div>\n",
              "      <button class=\"colab-df-convert\" onclick=\"convertToInteractive('df-c21fab75-5da1-4737-975c-e664b1603386')\"\n",
              "              title=\"Convert this dataframe to an interactive table.\"\n",
              "              style=\"display:none;\">\n",
              "        \n",
              "  <svg xmlns=\"http://www.w3.org/2000/svg\" height=\"24px\"viewBox=\"0 0 24 24\"\n",
              "       width=\"24px\">\n",
              "    <path d=\"M0 0h24v24H0V0z\" fill=\"none\"/>\n",
              "    <path d=\"M18.56 5.44l.94 2.06.94-2.06 2.06-.94-2.06-.94-.94-2.06-.94 2.06-2.06.94zm-11 1L8.5 8.5l.94-2.06 2.06-.94-2.06-.94L8.5 2.5l-.94 2.06-2.06.94zm10 10l.94 2.06.94-2.06 2.06-.94-2.06-.94-.94-2.06-.94 2.06-2.06.94z\"/><path d=\"M17.41 7.96l-1.37-1.37c-.4-.4-.92-.59-1.43-.59-.52 0-1.04.2-1.43.59L10.3 9.45l-7.72 7.72c-.78.78-.78 2.05 0 2.83L4 21.41c.39.39.9.59 1.41.59.51 0 1.02-.2 1.41-.59l7.78-7.78 2.81-2.81c.8-.78.8-2.07 0-2.86zM5.41 20L4 18.59l7.72-7.72 1.47 1.35L5.41 20z\"/>\n",
              "  </svg>\n",
              "      </button>\n",
              "      \n",
              "  <style>\n",
              "    .colab-df-container {\n",
              "      display:flex;\n",
              "      flex-wrap:wrap;\n",
              "      gap: 12px;\n",
              "    }\n",
              "\n",
              "    .colab-df-convert {\n",
              "      background-color: #E8F0FE;\n",
              "      border: none;\n",
              "      border-radius: 50%;\n",
              "      cursor: pointer;\n",
              "      display: none;\n",
              "      fill: #1967D2;\n",
              "      height: 32px;\n",
              "      padding: 0 0 0 0;\n",
              "      width: 32px;\n",
              "    }\n",
              "\n",
              "    .colab-df-convert:hover {\n",
              "      background-color: #E2EBFA;\n",
              "      box-shadow: 0px 1px 2px rgba(60, 64, 67, 0.3), 0px 1px 3px 1px rgba(60, 64, 67, 0.15);\n",
              "      fill: #174EA6;\n",
              "    }\n",
              "\n",
              "    [theme=dark] .colab-df-convert {\n",
              "      background-color: #3B4455;\n",
              "      fill: #D2E3FC;\n",
              "    }\n",
              "\n",
              "    [theme=dark] .colab-df-convert:hover {\n",
              "      background-color: #434B5C;\n",
              "      box-shadow: 0px 1px 3px 1px rgba(0, 0, 0, 0.15);\n",
              "      filter: drop-shadow(0px 1px 2px rgba(0, 0, 0, 0.3));\n",
              "      fill: #FFFFFF;\n",
              "    }\n",
              "  </style>\n",
              "\n",
              "      <script>\n",
              "        const buttonEl =\n",
              "          document.querySelector('#df-c21fab75-5da1-4737-975c-e664b1603386 button.colab-df-convert');\n",
              "        buttonEl.style.display =\n",
              "          google.colab.kernel.accessAllowed ? 'block' : 'none';\n",
              "\n",
              "        async function convertToInteractive(key) {\n",
              "          const element = document.querySelector('#df-c21fab75-5da1-4737-975c-e664b1603386');\n",
              "          const dataTable =\n",
              "            await google.colab.kernel.invokeFunction('convertToInteractive',\n",
              "                                                     [key], {});\n",
              "          if (!dataTable) return;\n",
              "\n",
              "          const docLinkHtml = 'Like what you see? Visit the ' +\n",
              "            '<a target=\"_blank\" href=https://colab.research.google.com/notebooks/data_table.ipynb>data table notebook</a>'\n",
              "            + ' to learn more about interactive tables.';\n",
              "          element.innerHTML = '';\n",
              "          dataTable['output_type'] = 'display_data';\n",
              "          await google.colab.output.renderOutput(dataTable, element);\n",
              "          const docLink = document.createElement('div');\n",
              "          docLink.innerHTML = docLinkHtml;\n",
              "          element.appendChild(docLink);\n",
              "        }\n",
              "      </script>\n",
              "    </div>\n",
              "  </div>\n",
              "  "
            ]
          },
          "metadata": {},
          "execution_count": 38
        }
      ]
    },
    {
      "cell_type": "code",
      "source": [
        "from sklearn.metrics import confusion_matrix\n",
        "import matplotlib.pyplot as plt\n",
        "import numpy as np\n",
        "import itertools"
      ],
      "metadata": {
        "id": "rhn9XusKL8K9"
      },
      "execution_count": 39,
      "outputs": []
    },
    {
      "cell_type": "code",
      "source": [
        "def plot_confusion_matrix(cm, classes,\n",
        "                          normalize=False,\n",
        "                          title='Confusion matrix',\n",
        "                          cmap=plt.cm.Blues):\n",
        "    \"\"\"\n",
        "    This function prints and plots the confusion matrix.\n",
        "    Normalization can be applied by setting `normalize=True`.\n",
        "    (c) http://scikit-learn.org/stable/auto_examples/model_selection/plot_confusion_matrix.html#sphx-glr-auto-examples-model-selection-plot-confusion-matrix-py\n",
        "    \"\"\"\n",
        "    if normalize:\n",
        "        cm = cm.astype('float') / cm.sum(axis=1)[:, np.newaxis]\n",
        "        print(\"Normalized confusion matrix\")\n",
        "    else:\n",
        "        print('Confusion matrix, without normalization')\n",
        "\n",
        "    print(cm)\n",
        "\n",
        "    plt.imshow(cm, interpolation='nearest', cmap=cmap)\n",
        "    plt.title(title)\n",
        "    plt.colorbar()\n",
        "    tick_marks = np.arange(len(classes))\n",
        "    plt.xticks(tick_marks, classes, rotation=45)\n",
        "    plt.yticks(tick_marks, classes)\n",
        "\n",
        "    fmt = '.3f' if normalize else 'd'\n",
        "    thresh = cm.max() / 2.\n",
        "    for i, j in itertools.product(range(cm.shape[0]), range(cm.shape[1])):\n",
        "        plt.text(j, i, format(cm[i, j], fmt),\n",
        "                 horizontalalignment=\"center\",\n",
        "                 color=\"white\" if cm[i, j] > thresh else \"black\")\n",
        "\n",
        "    plt.ylabel('True label')\n",
        "    plt.xlabel('Predicted label')\n",
        "    plt.tight_layout()"
      ],
      "metadata": {
        "id": "nDRnf_TsMDmN"
      },
      "execution_count": 40,
      "outputs": []
    },
    {
      "cell_type": "code",
      "source": [
        "cnf_matrix = confusion_matrix(y_test, predictions)\n",
        "np.set_printoptions(precision=3)\n",
        "class_names = ['male', 'female']\n",
        "# Plot normalized confusion matrix\n",
        "plt.figure()\n",
        "plot_confusion_matrix(cnf_matrix, classes=class_names, normalize=True,\n",
        "                      title='Normalized confusion matrix')\n",
        "plt.show()"
      ],
      "metadata": {
        "colab": {
          "base_uri": "https://localhost:8080/",
          "height": 539
        },
        "id": "zEvMMD-AMEpj",
        "outputId": "82cccda9-80bb-4339-f91d-e54f7f70c394"
      },
      "execution_count": 41,
      "outputs": [
        {
          "output_type": "stream",
          "name": "stdout",
          "text": [
            "Normalized confusion matrix\n",
            "[[0.961 0.039]\n",
            " [0.026 0.974]]\n"
          ]
        },
        {
          "output_type": "display_data",
          "data": {
            "text/plain": [
              "<Figure size 640x480 with 2 Axes>"
            ],
            "image/png": "[encoded data removed]"
          },
          "metadata": {}
        }
      ]
    },
    {
      "cell_type": "code",
      "source": [
        "print(f\"Classification report LogisticRegression\\n\")\n",
        "print('====================================================================')\n",
        "\n",
        "print(f\"{classification_report(y_test, predictions, target_names=target_names)}\\n\")"
      ],
      "metadata": {
        "colab": {
          "base_uri": "https://localhost:8080/"
        },
        "id": "QJFKJcMnMNwx",
        "outputId": "c30ac669-72d2-439c-908f-b3f5c0366f9f"
      },
      "execution_count": 42,
      "outputs": [
        {
          "output_type": "stream",
          "name": "stdout",
          "text": [
            "Classification report LogisticRegression\n",
            "\n",
            "====================================================================\n",
            "              precision    recall  f1-score   support\n",
            "\n",
            "        male       0.97      0.96      0.97       793\n",
            "      female       0.96      0.97      0.97       835\n",
            "\n",
            "    accuracy                           0.97      1628\n",
            "   macro avg       0.97      0.97      0.97      1628\n",
            "weighted avg       0.97      0.97      0.97      1628\n",
            "\n",
            "\n"
          ]
        }
      ]
    },
    {
      "cell_type": "code",
      "source": [
        "!pip install catboost"
      ],
      "metadata": {
        "colab": {
          "base_uri": "https://localhost:8080/"
        },
        "id": "TGQ18UNoMOud",
        "outputId": "2542144e-d014-48e1-9011-4ea1b5927f8a"
      },
      "execution_count": 43,
      "outputs": [
        {
          "output_type": "stream",
          "name": "stdout",
          "text": [
            "Looking in indexes: https://pypi.org/simple, https://us-python.pkg.dev/colab-wheels/public/simple/\n",
            "Collecting catboost\n",
            "  Downloading catboost-1.2-cp310-cp310-manylinux2014_x86_64.whl (98.6 MB)\n",
            "\u001b[2K     \u001b[90m━━━━━━━━━━━━━━━━━━━━━━━━━━━━━━━━━━━━━━━━\u001b[0m \u001b[32m98.6/98.6 MB\u001b[0m \u001b[31m2.0 MB/s\u001b[0m eta \u001b[36m0:00:00\u001b[0m\n",
            "\u001b[?25hRequirement already satisfied: graphviz in /usr/local/lib/python3.10/dist-packages (from catboost) (0.20.1)\n",
            "Requirement already satisfied: matplotlib in /usr/local/lib/python3.10/dist-packages (from catboost) (3.7.1)\n",
            "Requirement already satisfied: numpy>=1.16.0 in /usr/local/lib/python3.10/dist-packages (from catboost) (1.22.4)\n",
            "Requirement already satisfied: pandas>=0.24 in /usr/local/lib/python3.10/dist-packages (from catboost) (1.5.3)\n",
            "Requirement already satisfied: scipy in /usr/local/lib/python3.10/dist-packages (from catboost) (1.10.1)\n",
            "Requirement already satisfied: plotly in /usr/local/lib/python3.10/dist-packages (from catboost) (5.13.1)\n",
            "Requirement already satisfied: six in /usr/local/lib/python3.10/dist-packages (from catboost) (1.16.0)\n",
            "Requirement already satisfied: python-dateutil>=2.8.1 in /usr/local/lib/python3.10/dist-packages (from pandas>=0.24->catboost) (2.8.2)\n",
            "Requirement already satisfied: pytz>=2020.1 in /usr/local/lib/python3.10/dist-packages (from pandas>=0.24->catboost) (2022.7.1)\n",
            "Requirement already satisfied: contourpy>=1.0.1 in /usr/local/lib/python3.10/dist-packages (from matplotlib->catboost) (1.0.7)\n",
            "Requirement already satisfied: cycler>=0.10 in /usr/local/lib/python3.10/dist-packages (from matplotlib->catboost) (0.11.0)\n",
            "Requirement already satisfied: fonttools>=4.22.0 in /usr/local/lib/python3.10/dist-packages (from matplotlib->catboost) (4.39.3)\n",
            "Requirement already satisfied: kiwisolver>=1.0.1 in /usr/local/lib/python3.10/dist-packages (from matplotlib->catboost) (1.4.4)\n",
            "Requirement already satisfied: packaging>=20.0 in /usr/local/lib/python3.10/dist-packages (from matplotlib->catboost) (23.1)\n",
            "Requirement already satisfied: pillow>=6.2.0 in /usr/local/lib/python3.10/dist-packages (from matplotlib->catboost) (8.4.0)\n",
            "Requirement already satisfied: pyparsing>=2.3.1 in /usr/local/lib/python3.10/dist-packages (from matplotlib->catboost) (3.0.9)\n",
            "Requirement already satisfied: tenacity>=6.2.0 in /usr/local/lib/python3.10/dist-packages (from plotly->catboost) (8.2.2)\n",
            "Installing collected packages: catboost\n",
            "Successfully installed catboost-1.2\n"
          ]
        }
      ]
    },
    {
      "cell_type": "code",
      "source": [
        "from catboost import CatBoostClassifier \n",
        "from sklearn.ensemble import GradientBoostingClassifier\n",
        "from sklearn.ensemble import AdaBoostClassifier\n",
        "from sklearn.ensemble import RandomForestClassifier\n",
        "from sklearn.ensemble import  BaggingClassifier\n",
        "from sklearn.ensemble import  StackingClassifier\n",
        "from sklearn.tree import DecisionTreeClassifier\n",
        "from sklearn.svm import LinearSVC\n",
        "from sklearn.model_selection import KFold\n"
      ],
      "metadata": {
        "id": "2CsHeBUIMRVo"
      },
      "execution_count": 44,
      "outputs": []
    },
    {
      "cell_type": "code",
      "source": [
        "# Формирование списка алгоритмов\n",
        "models = []\n",
        "models.append(('LR', LogisticRegression(random_state=random_seed)))\n",
        "models.append(('DTC', DecisionTreeClassifier(random_state=random_seed)))\n",
        "models.append(('RFC', RandomForestClassifier(random_state=random_seed)))\n",
        "models.append(('BGC', BaggingClassifier(random_state=random_seed)))\n",
        "models.append(('SCC', StackingClassifier(\n",
        "     [\n",
        "                                      ('DTS', DecisionTreeClassifier(random_state=random_seed)),\n",
        "                                      ('RFC',  RandomForestClassifier(random_state=random_seed)),\n",
        "                                     ],  \n",
        "                                      LinearSVC(C=1, random_state=random_seed) \n",
        ")))\n",
        "models.append(('GBC', GradientBoostingClassifier(random_state=random_seed)))\n",
        "models.append(('ABC', AdaBoostClassifier(random_state=random_seed)))\n",
        "models.append(('CBC', CatBoostClassifier(random_state=random_seed)))"
      ],
      "metadata": {
        "id": "vAzyb2xOMdmK"
      },
      "execution_count": 45,
      "outputs": []
    },
    {
      "cell_type": "code",
      "source": [
        "pipelines = []\n",
        "pipelines.append(('SS_LR', Pipeline([(\"preprocessor\", preprocessor),\n",
        "                                    ('LR', LogisticRegression(random_state=random_seed))])))\n",
        "pipelines.append(('SS_DTS', Pipeline([(\"preprocessor\", preprocessor),\n",
        "                                    ('DTS', DecisionTreeClassifier(random_state=random_seed))])))\n",
        "\n",
        "pipelines.append(('SS_RFC', Pipeline([(\"preprocessor\", preprocessor),\n",
        "                                     ('RFC', RandomForestClassifier(random_state=random_seed))])))\n",
        "\n",
        "pipelines.append(('SS_BGS', Pipeline([(\"preprocessor\", preprocessor),\n",
        "                                     ('BGC', BaggingClassifier(random_state=random_seed))])))\n",
        "\n",
        "pipelines.append(('SS_GBC', Pipeline([(\"preprocessor\", preprocessor),\n",
        "                                      ('GBC', GradientBoostingClassifier(random_state=random_seed))])))\n",
        "\n",
        "pipelines.append(('SS_ABC', Pipeline([(\"preprocessor\", preprocessor),\n",
        "                                      ('ABC', AdaBoostClassifier(random_state=random_seed))])))\n",
        "\n",
        "\n",
        "pipelines.append(('SS_SCC', Pipeline([(\"preprocessor\", preprocessor),\n",
        "                                     ('SCC', StackingClassifier([\n",
        "                                      ('DTS', DecisionTreeClassifier(random_state=random_seed)),\n",
        "                                      ('RFC',  RandomForestClassifier(random_state=random_seed))],  \n",
        "                                      LinearSVC(C=1, random_state=random_seed)))])))\n",
        "\n",
        "pipelines.append(('SS_CBC', Pipeline([(\"preprocessor\", preprocessor),\n",
        "                                      ('CBC', CatBoostClassifier(\n",
        "                                         verbose=False\n",
        "                                      ))])))"
      ],
      "metadata": {
        "id": "k4NudOt1MkZs"
      },
      "execution_count": 46,
      "outputs": []
    },
    {
      "cell_type": "code",
      "source": [
        "# Оценивание эффективности выполнения каждого алгоритма\n",
        "\n",
        "results = {}\n",
        "\n",
        "for name, model in pipelines:\n",
        "    kfold = KFold(n_splits=num_folds, random_state=random_seed, shuffle=True)\n",
        "\n",
        "    X=data[['sex_name','sex_noun','sex_adjf','sex_npro', 'sex_adjs', 'sex_prts' ]]\n",
        "    \n",
        "    X_train, X_test, y_train, y_test = train_test_split(X, y, test_size=0.2, random_state=random_seed)\n",
        "    m_fit = model.fit(X_train, y_train)\n",
        "    m_predict = model.predict(X_test)\n",
        "\n",
        "    cv_results = cross_val_score(model, X_train, y_train, cv=kfold, scoring=\n",
        "                                 scoring)\n",
        "\n",
        "    print(f\"Classification report {name}\\n\")\n",
        "    print('====================================================================')\n",
        "\n",
        "    print(f\"{classification_report(y_test, m_predict, target_names=target_names)}\\n\")\n",
        " \n",
        "    a=classification_report(y_test, m_predict, target_names=target_names, output_dict=True )['male']\n",
        "    results[f'{name}']=a"
      ],
      "metadata": {
        "colab": {
          "base_uri": "https://localhost:8080/"
        },
        "id": "YaAZoFBTMncZ",
        "outputId": "930b664a-1853-4d15-e85f-b3880c17b823"
      },
      "execution_count": 47,
      "outputs": [
        {
          "output_type": "stream",
          "name": "stdout",
          "text": [
            "Classification report SS_LR\n",
            "\n",
            "====================================================================\n",
            "              precision    recall  f1-score   support\n",
            "\n",
            "        male       0.97      0.96      0.97       793\n",
            "      female       0.96      0.97      0.97       835\n",
            "\n",
            "    accuracy                           0.97      1628\n",
            "   macro avg       0.97      0.97      0.97      1628\n",
            "weighted avg       0.97      0.97      0.97      1628\n",
            "\n",
            "\n",
            "Classification report SS_DTS\n",
            "\n",
            "====================================================================\n",
            "              precision    recall  f1-score   support\n",
            "\n",
            "        male       0.97      0.96      0.97       793\n",
            "      female       0.96      0.97      0.97       835\n",
            "\n",
            "    accuracy                           0.97      1628\n",
            "   macro avg       0.97      0.97      0.97      1628\n",
            "weighted avg       0.97      0.97      0.97      1628\n",
            "\n",
            "\n",
            "Classification report SS_RFC\n",
            "\n",
            "====================================================================\n",
            "              precision    recall  f1-score   support\n",
            "\n",
            "        male       0.97      0.96      0.97       793\n",
            "      female       0.96      0.97      0.97       835\n",
            "\n",
            "    accuracy                           0.97      1628\n",
            "   macro avg       0.97      0.97      0.97      1628\n",
            "weighted avg       0.97      0.97      0.97      1628\n",
            "\n",
            "\n",
            "Classification report SS_BGS\n",
            "\n",
            "====================================================================\n",
            "              precision    recall  f1-score   support\n",
            "\n",
            "        male       0.97      0.96      0.97       793\n",
            "      female       0.96      0.97      0.97       835\n",
            "\n",
            "    accuracy                           0.97      1628\n",
            "   macro avg       0.97      0.97      0.97      1628\n",
            "weighted avg       0.97      0.97      0.97      1628\n",
            "\n",
            "\n",
            "Classification report SS_GBC\n",
            "\n",
            "====================================================================\n",
            "              precision    recall  f1-score   support\n",
            "\n",
            "        male       0.97      0.96      0.97       793\n",
            "      female       0.96      0.97      0.97       835\n",
            "\n",
            "    accuracy                           0.97      1628\n",
            "   macro avg       0.97      0.97      0.97      1628\n",
            "weighted avg       0.97      0.97      0.97      1628\n",
            "\n",
            "\n",
            "Classification report SS_ABC\n",
            "\n",
            "====================================================================\n",
            "              precision    recall  f1-score   support\n",
            "\n",
            "        male       0.97      0.96      0.96       793\n",
            "      female       0.96      0.97      0.97       835\n",
            "\n",
            "    accuracy                           0.97      1628\n",
            "   macro avg       0.97      0.97      0.97      1628\n",
            "weighted avg       0.97      0.97      0.97      1628\n",
            "\n",
            "\n",
            "Classification report SS_SCC\n",
            "\n",
            "====================================================================\n",
            "              precision    recall  f1-score   support\n",
            "\n",
            "        male       0.97      0.96      0.97       793\n",
            "      female       0.96      0.97      0.97       835\n",
            "\n",
            "    accuracy                           0.97      1628\n",
            "   macro avg       0.97      0.97      0.97      1628\n",
            "weighted avg       0.97      0.97      0.97      1628\n",
            "\n",
            "\n",
            "Classification report SS_CBC\n",
            "\n",
            "====================================================================\n",
            "              precision    recall  f1-score   support\n",
            "\n",
            "        male       0.97      0.96      0.97       793\n",
            "      female       0.96      0.97      0.97       835\n",
            "\n",
            "    accuracy                           0.97      1628\n",
            "   macro avg       0.97      0.97      0.97      1628\n",
            "weighted avg       0.97      0.97      0.97      1628\n",
            "\n",
            "\n"
          ]
        }
      ]
    },
    {
      "cell_type": "code",
      "source": [
        "res=pd.DataFrame.from_dict(results)\n",
        "res.drop('support', axis=0, inplace=True)\n",
        "res.head().style.format('{:.4f}', na_rep='-').background_gradient(cmap='Blues', axis=1)"
      ],
      "metadata": {
        "colab": {
          "base_uri": "https://localhost:8080/",
          "height": 143
        },
        "id": "aNYENPg9MqdI",
        "outputId": "b41fbe77-9b54-498e-befe-c17179951239"
      },
      "execution_count": 48,
      "outputs": [
        {
          "output_type": "execute_result",
          "data": {
            "text/plain": [
              "<pandas.io.formats.style.Styler at 0x7f26d2ccf3d0>"
            ],
            "text/html": [
              "<style type=\"text/css\">\n",
              "#T_7348e_row0_col0 {\n",
              "  background-color: #083471;\n",
              "  color: #f1f1f1;\n",
              "}\n",
              "#T_7348e_row0_col1, #T_7348e_row0_col2, #T_7348e_row0_col6, #T_7348e_row0_col7, #T_7348e_row1_col1, #T_7348e_row1_col2, #T_7348e_row1_col6, #T_7348e_row1_col7, #T_7348e_row2_col1, #T_7348e_row2_col2, #T_7348e_row2_col6, #T_7348e_row2_col7 {\n",
              "  background-color: #08306b;\n",
              "  color: #f1f1f1;\n",
              "}\n",
              "#T_7348e_row0_col3, #T_7348e_row0_col4 {\n",
              "  background-color: #08326e;\n",
              "  color: #f1f1f1;\n",
              "}\n",
              "#T_7348e_row0_col5, #T_7348e_row1_col0, #T_7348e_row2_col5 {\n",
              "  background-color: #f7fbff;\n",
              "  color: #000000;\n",
              "}\n",
              "#T_7348e_row1_col3, #T_7348e_row1_col4, #T_7348e_row1_col5 {\n",
              "  background-color: #6aaed6;\n",
              "  color: #f1f1f1;\n",
              "}\n",
              "#T_7348e_row2_col0 {\n",
              "  background-color: #75b4d8;\n",
              "  color: #000000;\n",
              "}\n",
              "#T_7348e_row2_col3, #T_7348e_row2_col4 {\n",
              "  background-color: #2474b7;\n",
              "  color: #f1f1f1;\n",
              "}\n",
              "</style>\n",
              "<table id=\"T_7348e\" class=\"dataframe\">\n",
              "  <thead>\n",
              "    <tr>\n",
              "      <th class=\"blank level0\" >&nbsp;</th>\n",
              "      <th id=\"T_7348e_level0_col0\" class=\"col_heading level0 col0\" >SS_LR</th>\n",
              "      <th id=\"T_7348e_level0_col1\" class=\"col_heading level0 col1\" >SS_DTS</th>\n",
              "      <th id=\"T_7348e_level0_col2\" class=\"col_heading level0 col2\" >SS_RFC</th>\n",
              "      <th id=\"T_7348e_level0_col3\" class=\"col_heading level0 col3\" >SS_BGS</th>\n",
              "      <th id=\"T_7348e_level0_col4\" class=\"col_heading level0 col4\" >SS_GBC</th>\n",
              "      <th id=\"T_7348e_level0_col5\" class=\"col_heading level0 col5\" >SS_ABC</th>\n",
              "      <th id=\"T_7348e_level0_col6\" class=\"col_heading level0 col6\" >SS_SCC</th>\n",
              "      <th id=\"T_7348e_level0_col7\" class=\"col_heading level0 col7\" >SS_CBC</th>\n",
              "    </tr>\n",
              "  </thead>\n",
              "  <tbody>\n",
              "    <tr>\n",
              "      <th id=\"T_7348e_level0_row0\" class=\"row_heading level0 row0\" >precision</th>\n",
              "      <td id=\"T_7348e_row0_col0\" class=\"data row0 col0\" >0.9719</td>\n",
              "      <td id=\"T_7348e_row0_col1\" class=\"data row0 col1\" >0.9720</td>\n",
              "      <td id=\"T_7348e_row0_col2\" class=\"data row0 col2\" >0.9720</td>\n",
              "      <td id=\"T_7348e_row0_col3\" class=\"data row0 col3\" >0.9719</td>\n",
              "      <td id=\"T_7348e_row0_col4\" class=\"data row0 col4\" >0.9719</td>\n",
              "      <td id=\"T_7348e_row0_col5\" class=\"data row0 col5\" >0.9682</td>\n",
              "      <td id=\"T_7348e_row0_col6\" class=\"data row0 col6\" >0.9720</td>\n",
              "      <td id=\"T_7348e_row0_col7\" class=\"data row0 col7\" >0.9720</td>\n",
              "    </tr>\n",
              "    <tr>\n",
              "      <th id=\"T_7348e_level0_row1\" class=\"row_heading level0 row1\" >recall</th>\n",
              "      <td id=\"T_7348e_row1_col0\" class=\"data row1 col0\" >0.9596</td>\n",
              "      <td id=\"T_7348e_row1_col1\" class=\"data row1 col1\" >0.9622</td>\n",
              "      <td id=\"T_7348e_row1_col2\" class=\"data row1 col2\" >0.9622</td>\n",
              "      <td id=\"T_7348e_row1_col3\" class=\"data row1 col3\" >0.9609</td>\n",
              "      <td id=\"T_7348e_row1_col4\" class=\"data row1 col4\" >0.9609</td>\n",
              "      <td id=\"T_7348e_row1_col5\" class=\"data row1 col5\" >0.9609</td>\n",
              "      <td id=\"T_7348e_row1_col6\" class=\"data row1 col6\" >0.9622</td>\n",
              "      <td id=\"T_7348e_row1_col7\" class=\"data row1 col7\" >0.9622</td>\n",
              "    </tr>\n",
              "    <tr>\n",
              "      <th id=\"T_7348e_level0_row2\" class=\"row_heading level0 row2\" >f1-score</th>\n",
              "      <td id=\"T_7348e_row2_col0\" class=\"data row2 col0\" >0.9657</td>\n",
              "      <td id=\"T_7348e_row2_col1\" class=\"data row2 col1\" >0.9670</td>\n",
              "      <td id=\"T_7348e_row2_col2\" class=\"data row2 col2\" >0.9670</td>\n",
              "      <td id=\"T_7348e_row2_col3\" class=\"data row2 col3\" >0.9664</td>\n",
              "      <td id=\"T_7348e_row2_col4\" class=\"data row2 col4\" >0.9664</td>\n",
              "      <td id=\"T_7348e_row2_col5\" class=\"data row2 col5\" >0.9646</td>\n",
              "      <td id=\"T_7348e_row2_col6\" class=\"data row2 col6\" >0.9670</td>\n",
              "      <td id=\"T_7348e_row2_col7\" class=\"data row2 col7\" >0.9670</td>\n",
              "    </tr>\n",
              "  </tbody>\n",
              "</table>\n"
            ]
          },
          "metadata": {},
          "execution_count": 48
        }
      ]
    },
    {
      "cell_type": "markdown",
      "source": [
        "Word2Vec"
      ],
      "metadata": {
        "id": "Wz8XriQPMyGc"
      }
    },
    {
      "cell_type": "code",
      "source": [
        "!wget http://vectors.nlpl.eu/repository/20/65.zip "
      ],
      "metadata": {
        "colab": {
          "base_uri": "https://localhost:8080/"
        },
        "id": "dITLsDNcM0OF",
        "outputId": "03764d09-1b1e-4174-c653-2183e8a17c42"
      },
      "execution_count": 49,
      "outputs": [
        {
          "output_type": "stream",
          "name": "stdout",
          "text": [
            "--2023-05-15 11:41:07--  http://vectors.nlpl.eu/repository/20/65.zip\n",
            "Resolving vectors.nlpl.eu (vectors.nlpl.eu)... 129.240.189.181\n",
            "Connecting to vectors.nlpl.eu (vectors.nlpl.eu)|129.240.189.181|:80... connected.\n",
            "HTTP request sent, awaiting response... 200 OK\n",
            "Length: 2540031150 (2.4G) [application/zip]\n",
            "Saving to: ‘65.zip’\n",
            "\n",
            "65.zip              100%[===================>]   2.37G  25.0MB/s    in 99s     \n",
            "\n",
            "2023-05-15 11:42:47 (24.4 MB/s) - ‘65.zip’ saved [2540031150/2540031150]\n",
            "\n"
          ]
        }
      ]
    },
    {
      "cell_type": "code",
      "source": [
        "! unzip 65.zip"
      ],
      "metadata": {
        "colab": {
          "base_uri": "https://localhost:8080/"
        },
        "id": "o7GGBjJZM09_",
        "outputId": "6d8671b5-0256-4cc5-fd58-9b7fab7efa8e"
      },
      "execution_count": 50,
      "outputs": [
        {
          "output_type": "stream",
          "name": "stdout",
          "text": [
            "Archive:  65.zip\n",
            "  inflating: LIST                    \n",
            "  inflating: meta.json               \n",
            "  inflating: model.bin               \n",
            "  inflating: model.txt               \n",
            "  inflating: README                  \n"
          ]
        }
      ]
    },
    {
      "cell_type": "code",
      "source": [
        "from gensim.models import KeyedVectors\n",
        "\n",
        "filename = 'model.bin'\n",
        "model = KeyedVectors.load_word2vec_format(filename, binary=True)\n"
      ],
      "metadata": {
        "id": "zNR3UDPYM3xN"
      },
      "execution_count": 51,
      "outputs": []
    },
    {
      "cell_type": "code",
      "source": [
        "from sklearn.feature_extraction.text import TfidfVectorizer # один способ , есть еще TFIDFTransformer"
      ],
      "metadata": {
        "id": "75tpq8zoQcSp"
      },
      "execution_count": 54,
      "outputs": []
    },
    {
      "cell_type": "code",
      "source": [
        "data_corp = [ \" \".join(data[data['gender'] == l]['description'].tolist()) for l in list(data.gender.unique()) ] #  складываем\n",
        "vectorizer = TfidfVectorizer()\n",
        "vectorizer.fit(data_corp)"
      ],
      "metadata": {
        "colab": {
          "base_uri": "https://localhost:8080/",
          "height": 75
        },
        "id": "n6P0ilH6PwSe",
        "outputId": "d1943941-6e3d-490e-f433-36dae6454ef2"
      },
      "execution_count": 55,
      "outputs": [
        {
          "output_type": "execute_result",
          "data": {
            "text/plain": [
              "TfidfVectorizer()"
            ],
            "text/html": [
              "<style>#sk-container-id-1 {color: black;background-color: white;}#sk-container-id-1 pre{padding: 0;}#sk-container-id-1 div.sk-toggleable {background-color: white;}#sk-container-id-1 label.sk-toggleable__label {cursor: pointer;display: block;width: 100%;margin-bottom: 0;padding: 0.3em;box-sizing: border-box;text-align: center;}#sk-container-id-1 label.sk-toggleable__label-arrow:before {content: \"▸\";float: left;margin-right: 0.25em;color: #696969;}#sk-container-id-1 label.sk-toggleable__label-arrow:hover:before {color: black;}#sk-container-id-1 div.sk-estimator:hover label.sk-toggleable__label-arrow:before {color: black;}#sk-container-id-1 div.sk-toggleable__content {max-height: 0;max-width: 0;overflow: hidden;text-align: left;background-color: #f0f8ff;}#sk-container-id-1 div.sk-toggleable__content pre {margin: 0.2em;color: black;border-radius: 0.25em;background-color: #f0f8ff;}#sk-container-id-1 input.sk-toggleable__control:checked~div.sk-toggleable__content {max-height: 200px;max-width: 100%;overflow: auto;}#sk-container-id-1 input.sk-toggleable__control:checked~label.sk-toggleable__label-arrow:before {content: \"▾\";}#sk-container-id-1 div.sk-estimator input.sk-toggleable__control:checked~label.sk-toggleable__label {background-color: #d4ebff;}#sk-container-id-1 div.sk-label input.sk-toggleable__control:checked~label.sk-toggleable__label {background-color: #d4ebff;}#sk-container-id-1 input.sk-hidden--visually {border: 0;clip: rect(1px 1px 1px 1px);clip: rect(1px, 1px, 1px, 1px);height: 1px;margin: -1px;overflow: hidden;padding: 0;position: absolute;width: 1px;}#sk-container-id-1 div.sk-estimator {font-family: monospace;background-color: #f0f8ff;border: 1px dotted black;border-radius: 0.25em;box-sizing: border-box;margin-bottom: 0.5em;}#sk-container-id-1 div.sk-estimator:hover {background-color: #d4ebff;}#sk-container-id-1 div.sk-parallel-item::after {content: \"\";width: 100%;border-bottom: 1px solid gray;flex-grow: 1;}#sk-container-id-1 div.sk-label:hover label.sk-toggleable__label {background-color: #d4ebff;}#sk-container-id-1 div.sk-serial::before {content: \"\";position: absolute;border-left: 1px solid gray;box-sizing: border-box;top: 0;bottom: 0;left: 50%;z-index: 0;}#sk-container-id-1 div.sk-serial {display: flex;flex-direction: column;align-items: center;background-color: white;padding-right: 0.2em;padding-left: 0.2em;position: relative;}#sk-container-id-1 div.sk-item {position: relative;z-index: 1;}#sk-container-id-1 div.sk-parallel {display: flex;align-items: stretch;justify-content: center;background-color: white;position: relative;}#sk-container-id-1 div.sk-item::before, #sk-container-id-1 div.sk-parallel-item::before {content: \"\";position: absolute;border-left: 1px solid gray;box-sizing: border-box;top: 0;bottom: 0;left: 50%;z-index: -1;}#sk-container-id-1 div.sk-parallel-item {display: flex;flex-direction: column;z-index: 1;position: relative;background-color: white;}#sk-container-id-1 div.sk-parallel-item:first-child::after {align-self: flex-end;width: 50%;}#sk-container-id-1 div.sk-parallel-item:last-child::after {align-self: flex-start;width: 50%;}#sk-container-id-1 div.sk-parallel-item:only-child::after {width: 0;}#sk-container-id-1 div.sk-dashed-wrapped {border: 1px dashed gray;margin: 0 0.4em 0.5em 0.4em;box-sizing: border-box;padding-bottom: 0.4em;background-color: white;}#sk-container-id-1 div.sk-label label {font-family: monospace;font-weight: bold;display: inline-block;line-height: 1.2em;}#sk-container-id-1 div.sk-label-container {text-align: center;}#sk-container-id-1 div.sk-container {/* jupyter's `normalize.less` sets `[hidden] { display: none; }` but bootstrap.min.css set `[hidden] { display: none !important; }` so we also need the `!important` here to be able to override the default hidden behavior on the sphinx rendered scikit-learn.org. See: https://github.com/scikit-learn/scikit-learn/issues/21755 */display: inline-block !important;position: relative;}#sk-container-id-1 div.sk-text-repr-fallback {display: none;}</style><div id=\"sk-container-id-1\" class=\"sk-top-container\"><div class=\"sk-text-repr-fallback\"><pre>TfidfVectorizer()</pre><b>In a Jupyter environment, please rerun this cell to show the HTML representation or trust the notebook. <br />On GitHub, the HTML representation is unable to render, please try loading this page with nbviewer.org.</b></div><div class=\"sk-container\" hidden><div class=\"sk-item\"><div class=\"sk-estimator sk-toggleable\"><input class=\"sk-toggleable__control sk-hidden--visually\" id=\"sk-estimator-id-1\" type=\"checkbox\" checked><label for=\"sk-estimator-id-1\" class=\"sk-toggleable__label sk-toggleable__label-arrow\">TfidfVectorizer</label><div class=\"sk-toggleable__content\"><pre>TfidfVectorizer()</pre></div></div></div></div></div>"
            ]
          },
          "metadata": {},
          "execution_count": 55
        }
      ]
    },
    {
      "cell_type": "code",
      "source": [
        "res_tfidf = vectorizer.transform(data['description'].tolist())"
      ],
      "metadata": {
        "id": "lak0kJ1WP-PN"
      },
      "execution_count": 56,
      "outputs": []
    },
    {
      "cell_type": "code",
      "source": [
        "X_tr, X_ts, y_tr, y_ts=train_test_split(res_tfidf, data['gender'], test_size=0.2)"
      ],
      "metadata": {
        "id": "8GDw3RbgQfxp"
      },
      "execution_count": 57,
      "outputs": []
    },
    {
      "cell_type": "code",
      "source": [
        "lr = LogisticRegression().fit(X_tr, y_tr)"
      ],
      "metadata": {
        "id": "ak2qxv9HQw3_"
      },
      "execution_count": 58,
      "outputs": []
    },
    {
      "cell_type": "code",
      "source": [
        "y_pred = lr.predict(X_ts)\n"
      ],
      "metadata": {
        "id": "QqfoIg8nQ0Qu"
      },
      "execution_count": 60,
      "outputs": []
    },
    {
      "cell_type": "code",
      "source": [
        "print(f\"Classification report Word2Vec\\n\")\n",
        "print('====================================================================')\n",
        "\n",
        "print(f\"{classification_report(y_ts, y_pred, target_names=target_names)}\\n\")\n",
        " \n",
        "a=classification_report(y_ts, y_pred, target_names=target_names, output_dict=True )['male']\n",
        "results[f'Word2Vec']=a"
      ],
      "metadata": {
        "colab": {
          "base_uri": "https://localhost:8080/"
        },
        "id": "Nqu-lbxXRDS7",
        "outputId": "9a4cc686-910b-4b9f-e6d0-1ce506659a40"
      },
      "execution_count": 62,
      "outputs": [
        {
          "output_type": "stream",
          "name": "stdout",
          "text": [
            "Classification report Word2Vec\n",
            "\n",
            "====================================================================\n",
            "              precision    recall  f1-score   support\n",
            "\n",
            "        male       0.98      0.98      0.98       808\n",
            "      female       0.98      0.99      0.98       820\n",
            "\n",
            "    accuracy                           0.98      1628\n",
            "   macro avg       0.98      0.98      0.98      1628\n",
            "weighted avg       0.98      0.98      0.98      1628\n",
            "\n",
            "\n"
          ]
        }
      ]
    },
    {
      "cell_type": "code",
      "source": [
        "cbc = CatBoostClassifier(verbose=False).fit(X_tr, y_tr)"
      ],
      "metadata": {
        "id": "PtyxXA8PbkFf"
      },
      "execution_count": 74,
      "outputs": []
    },
    {
      "cell_type": "code",
      "source": [
        "y_pred = cbc.predict(X_ts)\n"
      ],
      "metadata": {
        "id": "ZL0mKI84bkFf"
      },
      "execution_count": 75,
      "outputs": []
    },
    {
      "cell_type": "code",
      "source": [
        "print(f\"Classification report Word2Vec with CBC\\n\")\n",
        "print('====================================================================')\n",
        "\n",
        "print(f\"{classification_report(y_ts, y_pred, target_names=target_names)}\\n\")\n",
        " \n",
        "a=classification_report(y_ts, y_pred, target_names=target_names, output_dict=True )['male']\n",
        "results[f'Word2Vec with CBC']=a"
      ],
      "metadata": {
        "colab": {
          "base_uri": "https://localhost:8080/"
        },
        "outputId": "5f959792-1558-48a2-e8b8-7da58e886d12",
        "id": "zfNVIWGobkFf"
      },
      "execution_count": 76,
      "outputs": [
        {
          "output_type": "stream",
          "name": "stdout",
          "text": [
            "Classification report Word2Vec with CBC\n",
            "\n",
            "====================================================================\n",
            "              precision    recall  f1-score   support\n",
            "\n",
            "        male       0.99      0.97      0.98       808\n",
            "      female       0.97      0.99      0.98       820\n",
            "\n",
            "    accuracy                           0.98      1628\n",
            "   macro avg       0.98      0.98      0.98      1628\n",
            "weighted avg       0.98      0.98      0.98      1628\n",
            "\n",
            "\n"
          ]
        }
      ]
    },
    {
      "cell_type": "code",
      "source": [],
      "metadata": {
        "id": "_5qSjSpkezts"
      },
      "execution_count": null,
      "outputs": []
    },
    {
      "cell_type": "code",
      "source": [
        "rfc = RandomForestClassifier().fit(X_tr, y_tr)"
      ],
      "metadata": {
        "id": "51f23fkQe0QW"
      },
      "execution_count": 77,
      "outputs": []
    },
    {
      "cell_type": "code",
      "source": [
        "y_pred = cbc.predict(X_ts)\n"
      ],
      "metadata": {
        "id": "Rt3QHkoye0QX"
      },
      "execution_count": 78,
      "outputs": []
    },
    {
      "cell_type": "code",
      "source": [
        "print(f\"Classification report Word2Vec with RFC\\n\")\n",
        "print('====================================================================')\n",
        "\n",
        "print(f\"{classification_report(y_ts, y_pred, target_names=target_names)}\\n\")\n",
        " \n",
        "a=classification_report(y_ts, y_pred, target_names=target_names, output_dict=True )['male']\n",
        "results[f'Word2Vec with RFC']=a"
      ],
      "metadata": {
        "colab": {
          "base_uri": "https://localhost:8080/"
        },
        "outputId": "eadb85ad-b75e-48ba-936f-843440b89473",
        "id": "f1MQ5JfPe0QX"
      },
      "execution_count": 79,
      "outputs": [
        {
          "output_type": "stream",
          "name": "stdout",
          "text": [
            "Classification report Word2Vec with RFC\n",
            "\n",
            "====================================================================\n",
            "              precision    recall  f1-score   support\n",
            "\n",
            "        male       0.99      0.97      0.98       808\n",
            "      female       0.97      0.99      0.98       820\n",
            "\n",
            "    accuracy                           0.98      1628\n",
            "   macro avg       0.98      0.98      0.98      1628\n",
            "weighted avg       0.98      0.98      0.98      1628\n",
            "\n",
            "\n"
          ]
        }
      ]
    }
  ]
}